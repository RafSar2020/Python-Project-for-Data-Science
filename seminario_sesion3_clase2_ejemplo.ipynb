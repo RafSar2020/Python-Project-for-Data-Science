{
  "nbformat": 4,
  "nbformat_minor": 0,
  "metadata": {
    "colab": {
      "provenance": [],
      "include_colab_link": true
    },
    "kernelspec": {
      "name": "python3",
      "display_name": "Python 3"
    },
    "language_info": {
      "name": "python"
    }
  },
  "cells": [
    {
      "cell_type": "markdown",
      "metadata": {
        "id": "view-in-github",
        "colab_type": "text"
      },
      "source": [
        "<a href=\"https://colab.research.google.com/github/RafSar2020/Python-Project-for-Data-Science/blob/main/seminario_sesion3_clase2_ejemplo.ipynb\" target=\"_parent\"><img src=\"https://colab.research.google.com/assets/colab-badge.svg\" alt=\"Open In Colab\"/></a>"
      ]
    },
    {
      "cell_type": "markdown",
      "source": [
        "# Máster de Procesamiento de Lenguaje e Inteligencia Artificial.\n",
        "# Seminario de Computación y Programación.\n",
        "# Sesión 3.\n",
        "\n",
        "El objetivo es conocer y convertir archivos entre distintos formatos.\n",
        "\n",
        "**Glosario de términos de la práctica:** HTML, CSV, UTF-8, JSON, XLSX"
      ],
      "metadata": {
        "id": "481xnwLkUWCd"
      }
    },
    {
      "cell_type": "markdown",
      "source": [
        "### Archivo HTML"
      ],
      "metadata": {
        "id": "nuLBahISU_RM"
      }
    },
    {
      "cell_type": "markdown",
      "source": [
        "Los datos pueden venirnos en distintos formatos: HTML, texto formateado (programas específicos Word, Excel…), CSV, JSON, Base de datos relacional. Es posible pasar de un formato a otro utilizando herramientas específicas de transformación de datos (que puedes descargarte y utilizar como Pandoc), sistemas web como https://www.convertcsv.com o a través de lenguajes de programación (como Python)."
      ],
      "metadata": {
        "id": "tSMSoNwsDU9_"
      }
    },
    {
      "cell_type": "markdown",
      "source": [
        "```\n",
        "<!DOCTYPE html>\n",
        "<html>\n",
        "  <head>\n",
        "  <head>\n",
        "  <meta name= “Tu nombre”; content=\"text/html; charset=utf-8\">\n",
        "  </head>\n",
        "  <body>\n",
        "<table>\n",
        "  <tr>\n",
        "    <th>Color (gama)</th>\n",
        "    <th>Hexadecimal</th>\n",
        "    <th>RGB</th>\n",
        "    <th>CMYK</th>\n",
        "    <th>HSL</th>\n",
        "  </tr>\n",
        "  <tr>\n",
        "    <td>verde</td>\n",
        "    <td>#7ADF7B</td>\n",
        "    <td>(122,223,123)</td>\n",
        "    <td>(45,0,45,13)</td>\n",
        "    <td>(120.6,61.2%,67.6%)</td>\n",
        "  </tr>\n",
        "  <tr>\n",
        "    <td>azul</td>\n",
        "    <td>#071875</td>\n",
        "    <td>(7,24,117)</td>\n",
        "    <td>(94,79,0,54)</td>\n",
        "    <td>(230.7,88.7%,24.3%)</td>\n",
        "  </tr>\n",
        "  <tr>\n",
        "    <td>amarillo</td>\n",
        "    <td>#F6F6A3</td>\n",
        "    <td>(246,246,163)</td>\n",
        "    <td>(0,0,34,4)</td>\n",
        "    <td>(60,82.2%,80.2%)</td>\n",
        "  </tr>\n",
        "  <tr>\n",
        "    <td>rojo</td>\n",
        "    <td>#E15B27</td>\n",
        "    <td>(225,91,39)</td>\n",
        "    <td>(0,60,83,12)</td>\n",
        "    <td>(16.8,75.6%,51.8%)</td>\n",
        "  </tr>\n",
        "  <tr>\n",
        "    <td>añil</td>\n",
        "    <td>#1C4C96</td>\n",
        "    <td>((28, 76, 150))</td>\n",
        "    <td>(81,49,0,41)</td>\n",
        "    <td>(216.4,68.5%,34.9%)</td>\n",
        "  </tr>\n",
        "</table>\n",
        " </body>\n",
        "</html>\n",
        "\n",
        "```"
      ],
      "metadata": {
        "id": "ZYwFvB0YFqe3"
      }
    },
    {
      "cell_type": "markdown",
      "source": [
        "### Crear un archivo HTML\n",
        "\n",
        "Abre Sublime Text (también puedes hacerlo con otro editor de texto que tengas instalado en tu equipo) y copia y pega el código anterior.\n",
        "\n",
        "Modifica dónde pone \"Tu nombre\" y escribe tu nombre.\n",
        "\n",
        "Guárdalo en el escritorio de tu ordenador con el nombre MiTablaColores.html y en codificación “UTF-8”.\n",
        "\n",
        "Abre el fichero con un navegador y observa el resultado de tu página web."
      ],
      "metadata": {
        "id": "iUc6P92VH19U"
      }
    },
    {
      "cell_type": "markdown",
      "source": [
        "### Leer un archivo HTML\n",
        "Queremos trabajar con la información que hay en el documento HTML, para ello vamos a leerlo usando Python.\n",
        "\n",
        "Sube el archivo que has creado (MiTablaColores.html) a la pestaña de archivos.\n",
        "\n",
        "![Captura.PNG](data:image/png;base64,iVBORw0KGgoAAAANSUhEUgAAAUkAAAC5CAYAAAClb80FAAAAAXNSR0IArs4c6QAAAARnQU1BAACxjwv8YQUAAAAJcEhZcwAADsMAAA7DAcdvqGQAABzJSURBVHhe7Z1fcBRVvsfv8329dV/uW57uVKXqcosHqnwwVbfK1H0wtQ+k9oWqfRgBjfInaglZIE65agxqRBdn0RDwsiOKIy6QuBRx1zVodErEwSUOIExQTJA/AwYHDA4S+N3zO33O5HSnp7tnkkzmz/dT9Sumu0+fPjPMfHL+dZ9/IQAAAAWBJAEAwANIEgAAPIAkAQDAA0gSAAA8gCQBAMADSBIAADyAJAEAwANIEgAAPIAkAQBzwsTEBB06dIgOHDhQUvC5P/30k8qtcoAkAQCzJpfL0apVqygcDs8q1q5dS7dv31a5+nPx4kV6/vnn6caNG2pPYThNd3c3ZTIZtScYkCQAYNZcuHBBSm7Hjh106tSpgvHpp5/OEKMzWHxBYenxORs3bqRsNqv2zoSPcRpOu3nzZrU3GJAkAGDWnD9/XgqIm81e6HRe8cMPP6jU/nAT/4knnpDnrV+/3lWUvI+PcRpOy+cUAyQJAJg1CyVJhqWnJcj/mhL0OhYUSBIAMGtYbCwiP0lev349P1DjDG4GlyJJxq22yOFXywxC1UoyN56kxHCCEqdLe+OFyVI6QL65kTj1bIlTalLtAKCOCVqT9ILPLVWSDI+Mb9iwQeaxbt26vCD9+iv9CCTJrq4uevDBB+nKlSuUTqdt9veKZDKpcphrstS/qoEaGkTcG6WU2js3JKmL8+32KnuG4mHr+uG9xY2UAVCLVIIkGR7B1qLk4NdBRr69CCTJtrY2ecGTJ0/KuUy6AH7BI13zwrkYtQpBNd3bJETVRNERtX9OCCJJUZM83U99vf2URk0SgIqVZGdnZ3kkyUPyx48fV1sLz9juViHHFoodHaR2IbTQUwnKqWN5JrOUnbD25sZTommepLRR486d432iWX00TRnbyYYkp3KUGbWa9alxxxVynH+WclOO1w5yYr8uhyar8uRrZ13O4euOjYjjIk1yNOOaLwCVRCVIkpvUepoPN7c5+HVZmtuVRYqi9wqJLY3RmFDjUKd43RihhMNhyW5uDndRfG+YQiw9EbJpPJmm2KpFcns6mqnj4Jg+05JkZ4xiK0JGmhC1bE3mZZwR+TY0hCnOU7pGotQk0jRtdTT8VY03L/HMEHXdb+YporGFuoaMJvt4P7UtNo6LCN3fQ0nUWEEFs9CSXPCBm6tXr9LZs2fV1gKjhNS625JabjgiJdg2YP8ALEmKWNxGfcOitsg1x9HzNLiWJbWI2nqTNMa1vHMJ6vkt72um6Al5piVJEc3r4pS6yGmGKHIf71NSFNgkKXQdWyqON3ZR0qj1pXe1iDSqO2BKyJ3zEFLs2JuijLh2ZrRfSVNfm8vN22GKjVo6zo70UdvSduo7VvpfQgDmm4WUJMtQC5L/5W2N17GgBJJke3u7vMi3335Ln3/+uRyqDxIHDx5UOcwVOUo8ZUlEy4pyCYo0Cvms6idTI5Ykm6jrqFHFHI1Ri5DfjBrf5Bil881pJUkeEDKElxuKiPwaRH7Wtl2SQmYDbWI7RJFhlQ9LMV/jLSxzmhA1R7Ff1zaTW6z31zcCKYLqYaEkGaS26FbLLIZAkuTOTx68GRsbW1hJaiEuWUaRLT3Uo6L9fhZiK8XOqXQCS5IRGjIc6RSdO7q5PZRvWkuOdtnOdUrSKWunFK1apZE+jxop16P044PUoZvki5tp2eM91H8CwgSVTdDbEr2Cz+U8OK+gFHNboh7QYTcVQyBJ8g3nlfB0Dqu2xvJzj5ZdaZVSS1I0f9W2JKFEl1DbrhgDNyZ+khSktvJoexv1i6b04FqRh9FXOrZnmTi2jOLj1vY0SpK/iVG+9HLgZojivREK38PCDFF4H6Yagcrl1q1b9PDDD0sJzSb4IRmcV1B4UJmnKAYZweY0zz33nJzKWAxVNHCj50baa4cS3bQ1msiukrwYp7AQXdMzjtHwcSGkD/VIc+mS1AM1rd1dsglta9aL87lm2WqIXDJulSmkrzeRoqGEHkQSTCWpZ4koTzgudApA5fLjjz/K1iM3m0uJqn5U2rFjx+Sbv3PnjtqzADhHih2kttnnTLpKUpyZ7G4W+0PUsiFGQzwNZ6CP2uSAihCerOXNQpLmJHdH859rjP1ytHwRLeuOq2tHaRmPZItr98t81AAQj7bvTlD64hil9kao2eN9AwDml0CSXLlypawKp1KpBZtMnt7JfXrGwIgTh0TdJSmYylBi6zJaJEVmReiedoqd1vnORpLTfZHOgSTJZJriG1qs4ypC93dQPH9tQSZB0d/Zpygt+l0fbn8EYIEIJMk333yTnn76adn5WRm3Jc4BagK4c6J3WdDXzha+dk581jIN5AjAglJFfZIAAFB+IEkAAPAAkgQAAA8gSQAA8ACSBAAADyBJAADwAJIEAAAPIEkAAPAAkgQAAA8gSQAA8ACSBAAADyBJAADwAJIEAAAPIEkAAPAAkgQAAA8gSQAA8ACSBAAADyBJAADwAJIEAAAPIEkAAPAAkgQAAA/qRpK8dvjGjRtdl741Y2BgQJ0BAAB1JMnHH3/cVYpu8f7776uzQK3Da8lv2bKFfv31V7UHADt1I8kHHnhACtALU5SHDh1Se8vL0aNHacOGDbaymMHrmVci1VrurVu3yvK9+OKLdOvWLbXX4uLFi/Tll1/SBx98QH/729/o+PHjct+dO3dUClAPQJIG5o+aYyFEuWnTphnlcEYlCqdayz01NUUvv/yyLN8LL7yQr1G+9dZbM8qv46GHHqLdu3fTxMSETAtqG0jSwPlj4Ci3KN3KUEpwrY5rd+XCrQylRLnLzbAoX3rpJXl9rlGyKO/evUvbt2+fUT4zVqxYQW+//TZqljUOJGng/BHoKKco3a5fanDtrly4Xb9QPPnkk7R582YZ69atm3G8s7NT5Voebty4Qc8++2z++j09PXlRXrhwQaUiOnnyJL366qu2snKwYNGnWbvUjST1F9oL84vvjHIxV9dbqHIHicuXL6uziC5dukTLly+fkaZccD9kJBKZcX1do3SDuw2c6XnwBzXK2gSS9KHU80plrq63UOX2i/7+ftqxY4c6y2LPnj0z0pWL119/fca129ra5L9alCy/N9980zbrQTfPzdi3b586CmoJSNKHUs8rlbm63kKV2ys6OjqkcP7+97/TN998o84kunnzJq1evdqWthzwyLV5TR2nTp3KN6t105vL/cc//pH+8pe/yHN56pDzPK4Rm81zUBtAkgLuc9y7d6/asuN13nxQ7uvNFbrcXjEyMiLTauFwn5/mww8/tKUtB08//bTtmjpyuZwso+4G0KK8ffs29fb2ynN//vnnGedx8Eg5qC3qXpJ8h40+5jZFpdB580Up1/vuu+/kKCuLh+f9cW3n+vXr+cGRcqDLXSi4eWrCUvz444/VliVOc55lOeDPxiyjDpYk8+ijj+b3aVHquZScxjzHTAdqi7qWJPchmV9wDqco9f5yUez1WIj6HG7O6lsv16xZQ4899lhFSJJrZOZgDQuRy7p27VrbBG6uaepzykE6nbaVUwfvZ9577z3bfi1K5syZM7ZjHDyD4vvvv5fHQe1QlCT5C8I1r4cfflh+KbiDe//+/fkvTiWjv8gaLciVK1fmj+nX5v3b+li5KOZ64+PjMi0L5/Tp03LflStX5N0h+r1UgiR5YrYJl08f4+k+usbLEWSq1lyya9eufFl0cG2c4e4A/i6wzPUxHsXmZjcf6+vrs51XqMsGVDeBJXn+/Hl64oknZK3glVdeoXfffVc273ib91d6h7X+Imv4C80/yK+++ip/jF/zPq5BaJznzTfFXI9/wFzeq1evqj0zp6dUgiQzmYxKRbIbwClNEz0gUi64JmvOkdQxODioUljw4JJOZ4rytddek/v4GNeQQe0RSJL8n79+/Xr5F5VlacLbvJ+beWZHfKWhv/wm3GRizGN6n8btvPmkmOvxCCz/OE24JsmjszrK1fzT5XYLPSLMvPPOO1KUheA/vHxOOTEFaEY0GrV9H86ePSvvsuFjPEDDouTfBrdKfvnlF5UK1BqBJPn555/LL8Ynn3yi9tjh/Xyca2KViv7iu1HqsfmgmOuxUP7whz+orYVFl9stHnzwQXlXCz8cwuzKcMJdBvqccsM1Sp6/qZv7QULXKEFtE0iSf/7zn+WXgv/iusEjffzl4gm3lYr+YrtR6rH5IMiDIji4lrhz50752q2rg0e8+djBgwfVnvnFr9zc0uBbEHnajdkHaUZ7e7tMW+7bEk14gOmNN97I1xjdQncx8WtdowS1SyBJsvz4C6GnRjjhBwSwJPlHW6noL3ixlHpeqfDDHXggRl+3ULBU+F5ifs0CunbtmsqBZBObp9Pw/4nZHzifBC23X/B74UneCw2Lj7uSuHXEj0rjvl6Ow4cPyzmS3MzWXQOoUdY2gSQ5PDwsvwz8PD03Tpw4IY/zF6hSKeahu87gGlClEo/HZRn58V3d3d2yb43lyLWdzz77TKUC8wGLkQXJnz/3X4LaJJAkuZn9yCOPSNE4B264qcf7uflRyVOBuHbi9VDYQsEPPyj0x6FS4Hl9PNuAn4fIc/l4YjlujysP/J3nz5y7P0BtEkiSzJEjR2TthIObGeYUIJYJ12LwRQEA1BqBJcmMjY3J28u0GDl4ahD3jfEtXNzZ/fXXX6vUAABQ/RQlSQ03MUZHR+nbb7/NT6Dlbb4Dh6d7cB8lAADUAiVJshA82ZYHEFiUzknZAABQjcypJBmeEMyi5OcDmg8vAACAamTOJcmwKCt9RBgAAIIwL5IEAIBaAZIEAAAPIEkAAPAAkgQAAA+qRpI8pQiBQCBmG8WCmiQAAHgASQIAgAeQJAAAeABJAgCAB5AkAAB4AEkCAIAHkCQAAHgASQIAgAcVI8mJiQkEAoGouIAkEQgEwiMgSQQCgfAISBKBQCA8ApJEIBAIj6hrSR48eJCee+45evbZZ23Bi/u7pUcgEPUXdSvJL7/8Mr92uFtAlAgEgqNuJXn48GFXOQaJ5cuXUzQapatXr7rmjUAgaicgSUc88sgjrvvd4siRI655IxCI2glI0ojnn3+eLl26JP91HnMLzsMtbwQCUTtRt5IcGhqyCe+VV17JN5/535deesl23C04D2e+CASitgKSFPHqq6/Sjz/+aDvO27zflKIzIEkEovaj7iUZiUToiy++oOPHj9uO8zbvf/LJJ2fIUQea2whE7UfdSvKjjz6yCe/3v/+97Thvm8fdwrsmeYm+PvQ+HU6r7StpOnzgA/r6vJkGgUBUekCSKuZekkna+j//ScvfTlvb379HjzX+F734sTMdAoGo5IAkVcy9JBEIRC0EBm5UPPTQQ7ZbE3nbPO4W6JNEIGo/6laSyWTSVXzFxD//+U/XvBEIRO1E3UqS4/3333d9wIVf8DmHDh1yzROBQNRWBJLk6dOnqaenh3bu3El3795VewvD6To6OmRzNChuhUMgEIiFDl9JshQfffRR2rZtm9oTDE7P90EHxa1wCAQCsdDhK8mff/5Z9r+99dZbas80169fpx9++EG+npycpIGBAcpkMnL7nXfekef98ssvctsPt8IhEAjEQoevJLPZ7AxJXrhwgZ555hlqb2+nNWvW0E8//USbNm2S6fg5jIyW5I0bN+S2H26FQyAQiIWOkiSp4ZojH1u3bh0dOHCAvvvuO1m7ZCBJBAJRC+EryWvXrknZ7du3T+2Z5ptvvpHHeLTXOaCzf/9+eYwlCwAA1YqnJM+fPy+fwN3W1kbj4+Nq7zQ3b96UIuTHjDn5/vvv5Xm9vb2yeQ4AANVIYEnyayd79+6Vd6asXr1a7ZmGm958Ho9yuwkWAACqAd/m9pUrV2RtkfsfGR6t5nb6yZMn5fMWWZR8fHR0lLZs2UK5XE6me++99+R+fi4jAABUK76S5IEXll08HpfbO3bsoAceeIBeeOEFKcxUKiWPc62R74fW6IEbFipYaJLU1dBAXUfV5lxxtIsawnGyJn0BUJsULUl+GC3XKvUo9p07d+T61fyAWpNqkCRL/cUXX6TNmzfbwm2QqrqpAElejFO4QXyPLqptAKoEX0nyJHFTkkHRktQyrTT4VksuX6GoLVFCkgCUiq8keWoPD8709fWpPcF4/fXX5WTzIPd6F8Ply5fVq9lx9OhRVzkGCV53e/v27bIW7cn4IEV+u4RCQlChe1opMjCmDgimMpTY2kbNixuooWERNbf1UWpSHZNC6aL4wQi1quOtnYM0lk1R3wqdX5j6Rqz+X0uCYnugj8L3hET6EC1ZG6O0zs9FkmMfdk2nXdFHySAztSanr79oaYTiOzvskswkKNrWTIvE8YbFzdTWmyIuYWZvWFyH34cV4b3qDK/PAIAKwVeSzD/+8Q8pSu6PDMIbb7whm7E8j3Ku+dOf/iSXfZ0ts5GkjhMnTqjc3EhT330hCu9JU26KKDcqxNfYRNERdbS3mUIr4pRmi0xlKdEttp9KSKlYkhTn7kpRRuzIjfdTe2OIFt3TRrERYbOpHKX3hCl0b5RSnF5JsPmpIRpjyUykKLYiNJ2fQ5K5RBc13ddFCe4JEddO7RQS860RZmlwbci6BpcpY11j+jz7+6VsgrrEdmTYKoFbTdLzMwCgQggkyUqCJclPDZ+tKLkP1U18xYSzH9YOi6mF+k6rTfHTHzuWoOS4pYBcNktZ0wbcdG3sEWcJVE0ywbJRJJ4Rta1nEmpLYJMOX2sZxc2ZViNRamqI0JC8hinJDMXDDRSxDljkhigi8ur3sqS8Xhv1m13MQrZ5SQpxZyeyliAVyW5R490i35GrJD0/AwAqhKqUJAtqtqKcf0nmRA1tGS1qXELhzj6KD6cpawjE3tTU0WWTpCkLFk5Dt7FnhiQd/X1ToiZnO64lab02m79WOM53wgLL11wVzj7Ji0ZzW4cus4skPT8DACqEqpUkx2xEOf+SVEykKTkQowj35d3XQYNSEjkhvSarqan74Fg4cylJVTt0l6Ro9nv1FLjhJ8mcyPdeo7ktsJV5hiR9PgMAKgRIchbhKUkhxwTXHtUm9+n1r9KDFlaT1xxIkU3XuZTkaIxaXJvbYxRb2kCtu41BJMas5bohr+fR3HYps+wiKChJn88AgAoBze1ZhLckB6m9sZkiH6rG6MSQrGl1DLI2szS4LkRNPGI9maPcOXHsfh5pno0k1cANSzGXpvgKkb9Ib3X5mZIUVz/YTqHGMMVOWArPjsQovFTUEs3+wRk4B26SFP2tMXCTHaSOxiaKDI5RTrwnHj1vaTTKLJv/TdRzTLxfeR2fzwCACqFuB26OHDniKr5iwq+5nTsdz08BaljcSu27rSkxEud0moGe6ZpfSZJcRj17ovlpPS0bjGasQ5LM2ECEWmVadf3Tnoa08JkClBvRU5B4ylKc+re0UEPnkHrPqo9WnJsfzPH6DACoEKpSkrMVJFMOSZYPlqCjuV0KUrxCxjNiDvIGoEqpOknO1WRySBIAEISqk+RccebMGVfxFRNnz55VuS00kCQA80XdSpLhO4ncHnDhF3zOJ598onIBANQydS1JAADwA5IEAAAPIEkAAPAAkgQAAA8gSQAA8ACSBAAADyBJAADwAJIEAAAPIEkBL1Z26tQp1zh37pxKBQCoR/KSvPTYv+ajnuD7r1euXOl626GOjz76SKWeX3LnkpQ8NwePwHF5ipAN2xOEykC5r1eQMty+WTHvFcwVdS9JXtXRTYwcGzdupN7eXvm6eFFaD5VtaIxQwtV71sNvzecnJrcuotC6QcoWfBqPFfnVBgsxD5LMDEep7b5FVhl4JcStCcr4PahXUzWStP7PfD9fLyDJmqPuJfnaa6/NkKOOzs5OuSSuFunhw4fVWUFQkhRSaRtwWa/1XIxapfT8HjLLP2zHE7z9mGNJZvaFrYf0jmSslR8vWislNucf6usDJAmqmLqX5LZt22bIUcemTZtkGhYlrzvO+4KL0vrBta1qo4alMVFvtJPa2kRN4tgysybpfLCupIAkbYtoBVy3W9f8nD/kAutlS3IJijSG7KsrMnJ5CCOPbJJij7eqPBwPGHYRh33d7y4aMlZ65M8hvDNO0aWi5qof6jspxGzkb1/DfIwGO1tpCT8JvXGJeK/90+/VhiXJ2HA/RThvtea4/NxkGfmzUqGua5Wl37HeeZbGgn62oOpBTdKnJqlhUe7atUvuHx4eVnu9sCTZNcSSaaHYqNrNSPG0ih+rJbNSJOm/bvf0cg45IcGu+4x1bWw/ZJ/1sk+YS9OaZCk9nKC0XLs7TbGlIWrdlrRWhJxQ19uVlimd4sgNReSiaP2jIlO9hnijuIaSvPwcRM01enSMsrzmrJBgPGysYT4+SJF7m8RnYhXK9lnopSu22pYsU1ifZWhFjFJc7klRbvF/1LRNp51Zk5RluU+UjfuKxeec3NoqJC3E6Phs2w+q1gIkWXOgJulRk1y7di0dOHAgH/v376c1a9bIc/yxfnD845G1RuNHmx0QtctV/arvsTRJFrtuN4spv9qh+UP2Wy87yAqGIk2I8zbykOt+N4rzeJ9NHKqGbeuCMBdJs67fogXLcP6/iQmdT5Pe1ZIvo0y/c/pobjxJiWNjLl0B/Fna/2Bl9oapYUW/rDUWkuSyPUatdTwuav/2Nc5t/2+QZM0BSXpIslAUI0n5g+P+x/wAjiGJWUiy2HW7rR+3edz4IXutlx1AklI0+bVsFNlBatfXsF1vpqiY1Lam/DX5czBFJfM3y+YoY+5EHy1bzE3nCPXtVbVbV/jadoHJvPPr9LhL0tx2kyAkWdtAkuWQpKopSTGawjzWQ6GSJFn8ut0FJem3XnbB5rY4VdVAXSWZ6Z++RgBJJreEvCW5dlB8ih6IpnD6aD/FOsO0pLGZOgYNseWBJEHx1L0kzXW8g0bxkhRC4ebu0hjFzaa3o5YWXJJW3rZ9Lut2B2puq7TmVW3rZeuBG91HqTEHbuahuW2KKTcckX2WtqlU+WsZfaMK2Z1hrOI4DSQJigeSLJMkLdmIH1NDK8X0TTwlSzLIut0BB2781ssWjAmR8EBLvNAUIDVwE96VUgM3SYou9Ru4EbXTcXE2D9zsaxdCtQ/c2MQ0laKoKD+/Hzk3MzdGQ0+1UPtBTjO9Hrg8JmqUQ8+IWjbPN+VzM0kaGtb9k36StP5ANG0R78taHBySBJBk2SQp4AEcOWCjtkuXpCDAut22KUDdSiKMU1qe62VbsDz1ZPLQPa3U3uuYTJ5NUl9+GhFPAVIj3YyLOKbX/VZTgIy7P2eIiTHzb1xCYXMy+2Sa4noKEL+Hx2P56VDZwQ4KLY6qz9hfklb/Jl/DGgSDJEHdSzIajbqK0CuCSRIAUAtAkpAkAMCDQJK8++tNujX6Cd1K24Pu3lEpqhdIEgDgha8kb18+Q5mN/2E7ruPa/y0jmvpVpaxOWHhuIvQKvksHAFAf+EryZmKH7Zgzrnb/N01E/9c1su+u5vv5VE6VyV//+ldXEXrFoUOH1NkAgFrHX5Kf9cl9P758r6sICwWn5/NyI/0qp8qE78k+c+aM6wN33WJ0dFSeAwCoDwJIcrvcd/vSKbUnGLcvnpTnTX7aq/YAAED14StJlhwkCQCoVyBJAADwwF+Sw69DkgCAugWSBAAADwJI8jVIEgBQt0CSAADgQeCBm5tf7J5xW6JXcHp5XmKHygkAAKoPX0lOXRmly+v/zXY8aFzu+HeauvqtygkAAKoPX0kyU5kzrrVFv5i6elblAAAA1UkgSQIAQL0CSQIAgAeQJAAAeABJAgCAB5AkAAB4AEkCAIAHkCQAAHgASQIAgAeQJAAAeABJAgCAB5AkAAB4AEkCAIAHkCQAAHiQlyQAAICZQJIAAOABJAkAAB5AkgAA4AEkCQAABSH6f50v8yNFdBidAAAAAElFTkSuQmCC)"
      ],
      "metadata": {
        "id": "ctSL3Hx1yZiS"
      }
    },
    {
      "cell_type": "markdown",
      "source": [
        "Para poder trabajar con el archivo es necesario cargar librerías para poder hacer uso de ellas."
      ],
      "metadata": {
        "id": "qeJrpeFCMwN0"
      }
    },
    {
      "cell_type": "code",
      "execution_count": 1,
      "metadata": {
        "id": "TeVBzEdADIHB"
      },
      "outputs": [],
      "source": [
        "# Importar librerías\n",
        "import pandas as pd"
      ]
    },
    {
      "cell_type": "markdown",
      "source": [
        "Lee el archivo HTML y lo almacenamos en la variable `tablas`."
      ],
      "metadata": {
        "id": "17o-Hz9A3LiB"
      }
    },
    {
      "cell_type": "code",
      "source": [
        "tablas = pd.read_html('MiTablaColores.html')"
      ],
      "metadata": {
        "id": "8pzORcKa3SZR"
      },
      "execution_count": 2,
      "outputs": []
    },
    {
      "cell_type": "markdown",
      "source": [
        "Podemos ver que tiene almacenado la variable `tablas` si simplemente la escribimos y ejecutamos."
      ],
      "metadata": {
        "id": "IL20htTX7z_6"
      }
    },
    {
      "cell_type": "code",
      "source": [
        "tablas"
      ],
      "metadata": {
        "id": "QHI1RUgK76jx",
        "outputId": "02a7f249-088e-4b20-96e9-6eecf0bee44c",
        "colab": {
          "base_uri": "https://localhost:8080/"
        }
      },
      "execution_count": 3,
      "outputs": [
        {
          "output_type": "execute_result",
          "data": {
            "text/plain": [
              "[  Color (gama) Hexadecimal              RGB          CMYK                  HSL\n",
              " 0        verde     #7ADF7B    (122,223,123)  (45,0,45,13)  (120.6,61.2%,67.6%)\n",
              " 1         azul     #071875       (7,24,117)  (94,79,0,54)  (230.7,88.7%,24.3%)\n",
              " 2     amarillo     #F6F6A3    (246,246,163)    (0,0,34,4)     (60,82.2%,80.2%)\n",
              " 3         rojo     #E15B27      (225,91,39)  (0,60,83,12)   (16.8,75.6%,51.8%)\n",
              " 4        aÃ±il     #1C4C96  ((28, 76, 150))  (81,49,0,41)  (216.4,68.5%,34.9%)]"
            ]
          },
          "metadata": {},
          "execution_count": 3
        }
      ]
    },
    {
      "cell_type": "markdown",
      "source": [
        "Observa que hay un problema con la codificación. El archivo HTML lo has almacenado en UTF-8 pero al leer el archivo no lo ha leído con esta codificación. Hay que especificarle explícitamente la codificación del fichero.\n",
        "Ejecutamos la siguiente instrucción."
      ],
      "metadata": {
        "id": "zhV7RE3M8Gjf"
      }
    },
    {
      "cell_type": "code",
      "source": [
        "tablas = pd.read_html('MiTablaColores.html', encoding='utf-8')"
      ],
      "metadata": {
        "id": "cdFDdFBg8Zr-"
      },
      "execution_count": null,
      "outputs": []
    },
    {
      "cell_type": "markdown",
      "source": [
        "Comprobamos que en la variable tablas, ahora sí, se encuentra la información sin problemas de codificación."
      ],
      "metadata": {
        "id": "EjY-SN_J8gLl"
      }
    },
    {
      "cell_type": "code",
      "source": [
        "tablas\n"
      ],
      "metadata": {
        "id": "8E50I4MW8eDd",
        "outputId": "d2c6e186-46cb-43b7-ca34-28abbacb0b1c",
        "colab": {
          "base_uri": "https://localhost:8080/"
        }
      },
      "execution_count": 4,
      "outputs": [
        {
          "output_type": "execute_result",
          "data": {
            "text/plain": [
              "[  Color (gama) Hexadecimal              RGB          CMYK                  HSL\n",
              " 0        verde     #7ADF7B    (122,223,123)  (45,0,45,13)  (120.6,61.2%,67.6%)\n",
              " 1         azul     #071875       (7,24,117)  (94,79,0,54)  (230.7,88.7%,24.3%)\n",
              " 2     amarillo     #F6F6A3    (246,246,163)    (0,0,34,4)     (60,82.2%,80.2%)\n",
              " 3         rojo     #E15B27      (225,91,39)  (0,60,83,12)   (16.8,75.6%,51.8%)\n",
              " 4        aÃ±il     #1C4C96  ((28, 76, 150))  (81,49,0,41)  (216.4,68.5%,34.9%)]"
            ]
          },
          "metadata": {},
          "execution_count": 4
        }
      ]
    },
    {
      "cell_type": "markdown",
      "source": [
        "### Convertir HTML a XLSX\n",
        "Ahora vamos a convertir la tabla del fichero HTML anterior a un fichero de tipo hoja de cálculo como puede ser Excel, hay varias formas de hacerlo, entre ellas desde el propio editor de hojas de cálculo.\n",
        "\n",
        "En este caso vamos a usar Python para convertir el formato del fichero."
      ],
      "metadata": {
        "id": "Qzq8MPTC9DIE"
      }
    },
    {
      "cell_type": "markdown",
      "source": [
        "Una vez leído el archivo HTML, éste puede tener una o varias tablas.\n",
        "\n",
        "Para generar un archivo con extensión .xlsx (Excel) con la información de la primera tabla, ejecutamos la siguiente instrucción. En nuestro caso sólo hay una tabla, pero si hubiera más sería cambiar el `0` por el valor que ocupa la posición de la tabla menos 1 (por ejemplo para la quinta tabla hay que poner un 4).\n",
        "\n"
      ],
      "metadata": {
        "id": "Z7YSV27N3VAC"
      }
    },
    {
      "cell_type": "code",
      "source": [
        "tablas[0].to_excel ('MiTablaColores.xlsx', index = None, header=True)"
      ],
      "metadata": {
        "id": "lS2Oo6w032Hi"
      },
      "execution_count": 6,
      "outputs": []
    },
    {
      "cell_type": "markdown",
      "source": [
        "En la pestaña \"Archivos\", se ha generado un archivo .xlsx. Si no aparece, clica con el botón derecho en el espacio dónde aparecen los archivos y haz clic en la opción \"Actualizar\".\n",
        "\n",
        "![Captura.PNG](data:image/png;base64,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)"
      ],
      "metadata": {
        "id": "Zoe-lledOBWi"
      }
    },
    {
      "cell_type": "markdown",
      "source": [
        "### Convertir de HTML a CSV\n",
        "Otro de los formatos en los que nos puede interesar trabajar es el formato CSV.\n",
        "Vamos a recuperar la información del archivo HTML en formato CSV.\n",
        "\n",
        "Utilizamos la variable tablas que ya contiene la información del archivo .html y ejecutamos la siguiente instrucción para obtener el fichero CSV."
      ],
      "metadata": {
        "id": "_J1xYP6Hy8Oi"
      }
    },
    {
      "cell_type": "code",
      "source": [
        "tablas[0].to_csv('MiTablaColores.csv')"
      ],
      "metadata": {
        "id": "T4nK6CGY7otB"
      },
      "execution_count": 7,
      "outputs": []
    },
    {
      "cell_type": "markdown",
      "source": [
        "RESPUESTA: Haz doble clic en el fichero que se ha generado. Se abrirá en el lado derecho de tu navegador. Haz una captura de pantalla e insértala aquí."
      ],
      "metadata": {
        "id": "BvJ6n5Uf-NiA"
      }
    },
    {
      "cell_type": "markdown",
      "source": [
        "### Convertir CSV a Base de Datos\n",
        "Es posible que la cantidad de datos se mayor y queramos disponerlos en una base de datos.\n",
        "\n",
        "Para ello vamos a usar SQLite que se utiliza para trabajar con bases de datos relacionales."
      ],
      "metadata": {
        "id": "2GTLo4gr_oZQ"
      }
    },
    {
      "cell_type": "code",
      "source": [
        "# Importar librerías\n",
        "import sqlite3"
      ],
      "metadata": {
        "id": "APo1TEQb-W-Y"
      },
      "execution_count": 8,
      "outputs": []
    },
    {
      "cell_type": "markdown",
      "source": [
        "Lo primero es leer el archivo .csv, para ello ejecutamos la siguiente instrucción."
      ],
      "metadata": {
        "id": "KkNFyeuHAPBo"
      }
    },
    {
      "cell_type": "code",
      "source": [
        "df = pd.read_csv('MiTablaColores.csv')"
      ],
      "metadata": {
        "id": "_LlZesefANZv"
      },
      "execution_count": 9,
      "outputs": []
    },
    {
      "cell_type": "code",
      "source": [
        "df\n"
      ],
      "metadata": {
        "id": "QdfVOx1zAYjo",
        "outputId": "0066363c-a4ef-467d-fbd3-5e298d8fd9f7",
        "colab": {
          "base_uri": "https://localhost:8080/",
          "height": 206
        }
      },
      "execution_count": 10,
      "outputs": [
        {
          "output_type": "execute_result",
          "data": {
            "text/plain": [
              "   Unnamed: 0 Color (gama) Hexadecimal              RGB          CMYK  \\\n",
              "0           0        verde     #7ADF7B    (122,223,123)  (45,0,45,13)   \n",
              "1           1         azul     #071875       (7,24,117)  (94,79,0,54)   \n",
              "2           2     amarillo     #F6F6A3    (246,246,163)    (0,0,34,4)   \n",
              "3           3         rojo     #E15B27      (225,91,39)  (0,60,83,12)   \n",
              "4           4        aÃ±il     #1C4C96  ((28, 76, 150))  (81,49,0,41)   \n",
              "\n",
              "                   HSL  \n",
              "0  (120.6,61.2%,67.6%)  \n",
              "1  (230.7,88.7%,24.3%)  \n",
              "2     (60,82.2%,80.2%)  \n",
              "3   (16.8,75.6%,51.8%)  \n",
              "4  (216.4,68.5%,34.9%)  "
            ],
            "text/html": [
              "\n",
              "  <div id=\"df-b5c4565b-d897-4a36-9912-b14ef16a6d8b\" class=\"colab-df-container\">\n",
              "    <div>\n",
              "<style scoped>\n",
              "    .dataframe tbody tr th:only-of-type {\n",
              "        vertical-align: middle;\n",
              "    }\n",
              "\n",
              "    .dataframe tbody tr th {\n",
              "        vertical-align: top;\n",
              "    }\n",
              "\n",
              "    .dataframe thead th {\n",
              "        text-align: right;\n",
              "    }\n",
              "</style>\n",
              "<table border=\"1\" class=\"dataframe\">\n",
              "  <thead>\n",
              "    <tr style=\"text-align: right;\">\n",
              "      <th></th>\n",
              "      <th>Unnamed: 0</th>\n",
              "      <th>Color (gama)</th>\n",
              "      <th>Hexadecimal</th>\n",
              "      <th>RGB</th>\n",
              "      <th>CMYK</th>\n",
              "      <th>HSL</th>\n",
              "    </tr>\n",
              "  </thead>\n",
              "  <tbody>\n",
              "    <tr>\n",
              "      <th>0</th>\n",
              "      <td>0</td>\n",
              "      <td>verde</td>\n",
              "      <td>#7ADF7B</td>\n",
              "      <td>(122,223,123)</td>\n",
              "      <td>(45,0,45,13)</td>\n",
              "      <td>(120.6,61.2%,67.6%)</td>\n",
              "    </tr>\n",
              "    <tr>\n",
              "      <th>1</th>\n",
              "      <td>1</td>\n",
              "      <td>azul</td>\n",
              "      <td>#071875</td>\n",
              "      <td>(7,24,117)</td>\n",
              "      <td>(94,79,0,54)</td>\n",
              "      <td>(230.7,88.7%,24.3%)</td>\n",
              "    </tr>\n",
              "    <tr>\n",
              "      <th>2</th>\n",
              "      <td>2</td>\n",
              "      <td>amarillo</td>\n",
              "      <td>#F6F6A3</td>\n",
              "      <td>(246,246,163)</td>\n",
              "      <td>(0,0,34,4)</td>\n",
              "      <td>(60,82.2%,80.2%)</td>\n",
              "    </tr>\n",
              "    <tr>\n",
              "      <th>3</th>\n",
              "      <td>3</td>\n",
              "      <td>rojo</td>\n",
              "      <td>#E15B27</td>\n",
              "      <td>(225,91,39)</td>\n",
              "      <td>(0,60,83,12)</td>\n",
              "      <td>(16.8,75.6%,51.8%)</td>\n",
              "    </tr>\n",
              "    <tr>\n",
              "      <th>4</th>\n",
              "      <td>4</td>\n",
              "      <td>aÃ±il</td>\n",
              "      <td>#1C4C96</td>\n",
              "      <td>((28, 76, 150))</td>\n",
              "      <td>(81,49,0,41)</td>\n",
              "      <td>(216.4,68.5%,34.9%)</td>\n",
              "    </tr>\n",
              "  </tbody>\n",
              "</table>\n",
              "</div>\n",
              "    <div class=\"colab-df-buttons\">\n",
              "\n",
              "  <div class=\"colab-df-container\">\n",
              "    <button class=\"colab-df-convert\" onclick=\"convertToInteractive('df-b5c4565b-d897-4a36-9912-b14ef16a6d8b')\"\n",
              "            title=\"Convert this dataframe to an interactive table.\"\n",
              "            style=\"display:none;\">\n",
              "\n",
              "  <svg xmlns=\"http://www.w3.org/2000/svg\" height=\"24px\" viewBox=\"0 -960 960 960\">\n",
              "    <path d=\"M120-120v-720h720v720H120Zm60-500h600v-160H180v160Zm220 220h160v-160H400v160Zm0 220h160v-160H400v160ZM180-400h160v-160H180v160Zm440 0h160v-160H620v160ZM180-180h160v-160H180v160Zm440 0h160v-160H620v160Z\"/>\n",
              "  </svg>\n",
              "    </button>\n",
              "\n",
              "  <style>\n",
              "    .colab-df-container {\n",
              "      display:flex;\n",
              "      gap: 12px;\n",
              "    }\n",
              "\n",
              "    .colab-df-convert {\n",
              "      background-color: #E8F0FE;\n",
              "      border: none;\n",
              "      border-radius: 50%;\n",
              "      cursor: pointer;\n",
              "      display: none;\n",
              "      fill: #1967D2;\n",
              "      height: 32px;\n",
              "      padding: 0 0 0 0;\n",
              "      width: 32px;\n",
              "    }\n",
              "\n",
              "    .colab-df-convert:hover {\n",
              "      background-color: #E2EBFA;\n",
              "      box-shadow: 0px 1px 2px rgba(60, 64, 67, 0.3), 0px 1px 3px 1px rgba(60, 64, 67, 0.15);\n",
              "      fill: #174EA6;\n",
              "    }\n",
              "\n",
              "    .colab-df-buttons div {\n",
              "      margin-bottom: 4px;\n",
              "    }\n",
              "\n",
              "    [theme=dark] .colab-df-convert {\n",
              "      background-color: #3B4455;\n",
              "      fill: #D2E3FC;\n",
              "    }\n",
              "\n",
              "    [theme=dark] .colab-df-convert:hover {\n",
              "      background-color: #434B5C;\n",
              "      box-shadow: 0px 1px 3px 1px rgba(0, 0, 0, 0.15);\n",
              "      filter: drop-shadow(0px 1px 2px rgba(0, 0, 0, 0.3));\n",
              "      fill: #FFFFFF;\n",
              "    }\n",
              "  </style>\n",
              "\n",
              "    <script>\n",
              "      const buttonEl =\n",
              "        document.querySelector('#df-b5c4565b-d897-4a36-9912-b14ef16a6d8b button.colab-df-convert');\n",
              "      buttonEl.style.display =\n",
              "        google.colab.kernel.accessAllowed ? 'block' : 'none';\n",
              "\n",
              "      async function convertToInteractive(key) {\n",
              "        const element = document.querySelector('#df-b5c4565b-d897-4a36-9912-b14ef16a6d8b');\n",
              "        const dataTable =\n",
              "          await google.colab.kernel.invokeFunction('convertToInteractive',\n",
              "                                                    [key], {});\n",
              "        if (!dataTable) return;\n",
              "\n",
              "        const docLinkHtml = 'Like what you see? Visit the ' +\n",
              "          '<a target=\"_blank\" href=https://colab.research.google.com/notebooks/data_table.ipynb>data table notebook</a>'\n",
              "          + ' to learn more about interactive tables.';\n",
              "        element.innerHTML = '';\n",
              "        dataTable['output_type'] = 'display_data';\n",
              "        await google.colab.output.renderOutput(dataTable, element);\n",
              "        const docLink = document.createElement('div');\n",
              "        docLink.innerHTML = docLinkHtml;\n",
              "        element.appendChild(docLink);\n",
              "      }\n",
              "    </script>\n",
              "  </div>\n",
              "\n",
              "\n",
              "<div id=\"df-5ec4b61c-2335-4688-9a28-ff74a9dfe580\">\n",
              "  <button class=\"colab-df-quickchart\" onclick=\"quickchart('df-5ec4b61c-2335-4688-9a28-ff74a9dfe580')\"\n",
              "            title=\"Suggest charts.\"\n",
              "            style=\"display:none;\">\n",
              "\n",
              "<svg xmlns=\"http://www.w3.org/2000/svg\" height=\"24px\"viewBox=\"0 0 24 24\"\n",
              "     width=\"24px\">\n",
              "    <g>\n",
              "        <path d=\"M19 3H5c-1.1 0-2 .9-2 2v14c0 1.1.9 2 2 2h14c1.1 0 2-.9 2-2V5c0-1.1-.9-2-2-2zM9 17H7v-7h2v7zm4 0h-2V7h2v10zm4 0h-2v-4h2v4z\"/>\n",
              "    </g>\n",
              "</svg>\n",
              "  </button>\n",
              "\n",
              "<style>\n",
              "  .colab-df-quickchart {\n",
              "      --bg-color: #E8F0FE;\n",
              "      --fill-color: #1967D2;\n",
              "      --hover-bg-color: #E2EBFA;\n",
              "      --hover-fill-color: #174EA6;\n",
              "      --disabled-fill-color: #AAA;\n",
              "      --disabled-bg-color: #DDD;\n",
              "  }\n",
              "\n",
              "  [theme=dark] .colab-df-quickchart {\n",
              "      --bg-color: #3B4455;\n",
              "      --fill-color: #D2E3FC;\n",
              "      --hover-bg-color: #434B5C;\n",
              "      --hover-fill-color: #FFFFFF;\n",
              "      --disabled-bg-color: #3B4455;\n",
              "      --disabled-fill-color: #666;\n",
              "  }\n",
              "\n",
              "  .colab-df-quickchart {\n",
              "    background-color: var(--bg-color);\n",
              "    border: none;\n",
              "    border-radius: 50%;\n",
              "    cursor: pointer;\n",
              "    display: none;\n",
              "    fill: var(--fill-color);\n",
              "    height: 32px;\n",
              "    padding: 0;\n",
              "    width: 32px;\n",
              "  }\n",
              "\n",
              "  .colab-df-quickchart:hover {\n",
              "    background-color: var(--hover-bg-color);\n",
              "    box-shadow: 0 1px 2px rgba(60, 64, 67, 0.3), 0 1px 3px 1px rgba(60, 64, 67, 0.15);\n",
              "    fill: var(--button-hover-fill-color);\n",
              "  }\n",
              "\n",
              "  .colab-df-quickchart-complete:disabled,\n",
              "  .colab-df-quickchart-complete:disabled:hover {\n",
              "    background-color: var(--disabled-bg-color);\n",
              "    fill: var(--disabled-fill-color);\n",
              "    box-shadow: none;\n",
              "  }\n",
              "\n",
              "  .colab-df-spinner {\n",
              "    border: 2px solid var(--fill-color);\n",
              "    border-color: transparent;\n",
              "    border-bottom-color: var(--fill-color);\n",
              "    animation:\n",
              "      spin 1s steps(1) infinite;\n",
              "  }\n",
              "\n",
              "  @keyframes spin {\n",
              "    0% {\n",
              "      border-color: transparent;\n",
              "      border-bottom-color: var(--fill-color);\n",
              "      border-left-color: var(--fill-color);\n",
              "    }\n",
              "    20% {\n",
              "      border-color: transparent;\n",
              "      border-left-color: var(--fill-color);\n",
              "      border-top-color: var(--fill-color);\n",
              "    }\n",
              "    30% {\n",
              "      border-color: transparent;\n",
              "      border-left-color: var(--fill-color);\n",
              "      border-top-color: var(--fill-color);\n",
              "      border-right-color: var(--fill-color);\n",
              "    }\n",
              "    40% {\n",
              "      border-color: transparent;\n",
              "      border-right-color: var(--fill-color);\n",
              "      border-top-color: var(--fill-color);\n",
              "    }\n",
              "    60% {\n",
              "      border-color: transparent;\n",
              "      border-right-color: var(--fill-color);\n",
              "    }\n",
              "    80% {\n",
              "      border-color: transparent;\n",
              "      border-right-color: var(--fill-color);\n",
              "      border-bottom-color: var(--fill-color);\n",
              "    }\n",
              "    90% {\n",
              "      border-color: transparent;\n",
              "      border-bottom-color: var(--fill-color);\n",
              "    }\n",
              "  }\n",
              "</style>\n",
              "\n",
              "  <script>\n",
              "    async function quickchart(key) {\n",
              "      const quickchartButtonEl =\n",
              "        document.querySelector('#' + key + ' button');\n",
              "      quickchartButtonEl.disabled = true;  // To prevent multiple clicks.\n",
              "      quickchartButtonEl.classList.add('colab-df-spinner');\n",
              "      try {\n",
              "        const charts = await google.colab.kernel.invokeFunction(\n",
              "            'suggestCharts', [key], {});\n",
              "      } catch (error) {\n",
              "        console.error('Error during call to suggestCharts:', error);\n",
              "      }\n",
              "      quickchartButtonEl.classList.remove('colab-df-spinner');\n",
              "      quickchartButtonEl.classList.add('colab-df-quickchart-complete');\n",
              "    }\n",
              "    (() => {\n",
              "      let quickchartButtonEl =\n",
              "        document.querySelector('#df-5ec4b61c-2335-4688-9a28-ff74a9dfe580 button');\n",
              "      quickchartButtonEl.style.display =\n",
              "        google.colab.kernel.accessAllowed ? 'block' : 'none';\n",
              "    })();\n",
              "  </script>\n",
              "</div>\n",
              "    </div>\n",
              "  </div>\n"
            ]
          },
          "metadata": {},
          "execution_count": 10
        }
      ]
    },
    {
      "cell_type": "markdown",
      "source": [
        "A continuación abrimos la conexión y creamos la base de datos dónde se van a guardar los datos, en este caso la llamamos \"MiBDColores\"."
      ],
      "metadata": {
        "id": "_uLM68G5Av7a"
      }
    },
    {
      "cell_type": "code",
      "source": [
        "conn = sqlite3.connect('MiBDColores.db')"
      ],
      "metadata": {
        "id": "RyJodpKfAXp-"
      },
      "execution_count": 11,
      "outputs": []
    },
    {
      "cell_type": "markdown",
      "source": [
        "Observa que se ha creado un nuevo fichero con ese nombre y extensión .db.\n",
        "\n",
        "Ahora escribimos la información del fichero CSV dentro de la base de datos que hemos creado. Para ello creamos una tabla que se denomina `colores`que es la que almacena la información."
      ],
      "metadata": {
        "id": "bH0lYureBD1Y"
      }
    },
    {
      "cell_type": "code",
      "source": [
        "df.to_sql('colores', conn, if_exists='replace', index=False)"
      ],
      "metadata": {
        "id": "qKbUcHeZA_lf",
        "outputId": "cdad43c3-b29f-4e9b-aca5-0f114ec3444a",
        "colab": {
          "base_uri": "https://localhost:8080/"
        }
      },
      "execution_count": 12,
      "outputs": [
        {
          "output_type": "execute_result",
          "data": {
            "text/plain": [
              "5"
            ]
          },
          "metadata": {},
          "execution_count": 12
        }
      ]
    },
    {
      "cell_type": "markdown",
      "source": [
        "Lo último es cerrar la conexión con la base de datos."
      ],
      "metadata": {
        "id": "Il_ylIMNBhK-"
      }
    },
    {
      "cell_type": "code",
      "source": [
        "conn.close()"
      ],
      "metadata": {
        "id": "A5mEeL9QBbOn"
      },
      "execution_count": 13,
      "outputs": []
    },
    {
      "cell_type": "markdown",
      "source": [
        "De esta manera ya podríamos trabajar con la base de datos, haciendo consultas sobre ella. Por ejemplo, en este pequeño ejercicio nuestra base de datos sólo tiene una tabla (la cual se denomina `tiempo`) si queremos saber toda la información que tiene sería de la siguiente manera."
      ],
      "metadata": {
        "id": "oryt_JMzCfKG"
      }
    },
    {
      "cell_type": "code",
      "source": [
        "conn = sqlite3.connect('MiBDColores.db') # abrir conexión con la base de datos"
      ],
      "metadata": {
        "id": "2S9NTFRYCxHX"
      },
      "execution_count": 14,
      "outputs": []
    },
    {
      "cell_type": "code",
      "source": [
        "pd.read_sql_query(\"SELECT * FROM colores\", conn)"
      ],
      "metadata": {
        "id": "daQpoG3yBkwO",
        "outputId": "8a204b85-1434-48a8-9d16-5e930ee7ca4b",
        "colab": {
          "base_uri": "https://localhost:8080/",
          "height": 206
        }
      },
      "execution_count": 15,
      "outputs": [
        {
          "output_type": "execute_result",
          "data": {
            "text/plain": [
              "   Unnamed: 0 Color (gama) Hexadecimal              RGB          CMYK  \\\n",
              "0           0        verde     #7ADF7B    (122,223,123)  (45,0,45,13)   \n",
              "1           1         azul     #071875       (7,24,117)  (94,79,0,54)   \n",
              "2           2     amarillo     #F6F6A3    (246,246,163)    (0,0,34,4)   \n",
              "3           3         rojo     #E15B27      (225,91,39)  (0,60,83,12)   \n",
              "4           4        aÃ±il     #1C4C96  ((28, 76, 150))  (81,49,0,41)   \n",
              "\n",
              "                   HSL  \n",
              "0  (120.6,61.2%,67.6%)  \n",
              "1  (230.7,88.7%,24.3%)  \n",
              "2     (60,82.2%,80.2%)  \n",
              "3   (16.8,75.6%,51.8%)  \n",
              "4  (216.4,68.5%,34.9%)  "
            ],
            "text/html": [
              "\n",
              "  <div id=\"df-d9a682b1-ab8f-41ce-8be4-10dab3ba8690\" class=\"colab-df-container\">\n",
              "    <div>\n",
              "<style scoped>\n",
              "    .dataframe tbody tr th:only-of-type {\n",
              "        vertical-align: middle;\n",
              "    }\n",
              "\n",
              "    .dataframe tbody tr th {\n",
              "        vertical-align: top;\n",
              "    }\n",
              "\n",
              "    .dataframe thead th {\n",
              "        text-align: right;\n",
              "    }\n",
              "</style>\n",
              "<table border=\"1\" class=\"dataframe\">\n",
              "  <thead>\n",
              "    <tr style=\"text-align: right;\">\n",
              "      <th></th>\n",
              "      <th>Unnamed: 0</th>\n",
              "      <th>Color (gama)</th>\n",
              "      <th>Hexadecimal</th>\n",
              "      <th>RGB</th>\n",
              "      <th>CMYK</th>\n",
              "      <th>HSL</th>\n",
              "    </tr>\n",
              "  </thead>\n",
              "  <tbody>\n",
              "    <tr>\n",
              "      <th>0</th>\n",
              "      <td>0</td>\n",
              "      <td>verde</td>\n",
              "      <td>#7ADF7B</td>\n",
              "      <td>(122,223,123)</td>\n",
              "      <td>(45,0,45,13)</td>\n",
              "      <td>(120.6,61.2%,67.6%)</td>\n",
              "    </tr>\n",
              "    <tr>\n",
              "      <th>1</th>\n",
              "      <td>1</td>\n",
              "      <td>azul</td>\n",
              "      <td>#071875</td>\n",
              "      <td>(7,24,117)</td>\n",
              "      <td>(94,79,0,54)</td>\n",
              "      <td>(230.7,88.7%,24.3%)</td>\n",
              "    </tr>\n",
              "    <tr>\n",
              "      <th>2</th>\n",
              "      <td>2</td>\n",
              "      <td>amarillo</td>\n",
              "      <td>#F6F6A3</td>\n",
              "      <td>(246,246,163)</td>\n",
              "      <td>(0,0,34,4)</td>\n",
              "      <td>(60,82.2%,80.2%)</td>\n",
              "    </tr>\n",
              "    <tr>\n",
              "      <th>3</th>\n",
              "      <td>3</td>\n",
              "      <td>rojo</td>\n",
              "      <td>#E15B27</td>\n",
              "      <td>(225,91,39)</td>\n",
              "      <td>(0,60,83,12)</td>\n",
              "      <td>(16.8,75.6%,51.8%)</td>\n",
              "    </tr>\n",
              "    <tr>\n",
              "      <th>4</th>\n",
              "      <td>4</td>\n",
              "      <td>aÃ±il</td>\n",
              "      <td>#1C4C96</td>\n",
              "      <td>((28, 76, 150))</td>\n",
              "      <td>(81,49,0,41)</td>\n",
              "      <td>(216.4,68.5%,34.9%)</td>\n",
              "    </tr>\n",
              "  </tbody>\n",
              "</table>\n",
              "</div>\n",
              "    <div class=\"colab-df-buttons\">\n",
              "\n",
              "  <div class=\"colab-df-container\">\n",
              "    <button class=\"colab-df-convert\" onclick=\"convertToInteractive('df-d9a682b1-ab8f-41ce-8be4-10dab3ba8690')\"\n",
              "            title=\"Convert this dataframe to an interactive table.\"\n",
              "            style=\"display:none;\">\n",
              "\n",
              "  <svg xmlns=\"http://www.w3.org/2000/svg\" height=\"24px\" viewBox=\"0 -960 960 960\">\n",
              "    <path d=\"M120-120v-720h720v720H120Zm60-500h600v-160H180v160Zm220 220h160v-160H400v160Zm0 220h160v-160H400v160ZM180-400h160v-160H180v160Zm440 0h160v-160H620v160ZM180-180h160v-160H180v160Zm440 0h160v-160H620v160Z\"/>\n",
              "  </svg>\n",
              "    </button>\n",
              "\n",
              "  <style>\n",
              "    .colab-df-container {\n",
              "      display:flex;\n",
              "      gap: 12px;\n",
              "    }\n",
              "\n",
              "    .colab-df-convert {\n",
              "      background-color: #E8F0FE;\n",
              "      border: none;\n",
              "      border-radius: 50%;\n",
              "      cursor: pointer;\n",
              "      display: none;\n",
              "      fill: #1967D2;\n",
              "      height: 32px;\n",
              "      padding: 0 0 0 0;\n",
              "      width: 32px;\n",
              "    }\n",
              "\n",
              "    .colab-df-convert:hover {\n",
              "      background-color: #E2EBFA;\n",
              "      box-shadow: 0px 1px 2px rgba(60, 64, 67, 0.3), 0px 1px 3px 1px rgba(60, 64, 67, 0.15);\n",
              "      fill: #174EA6;\n",
              "    }\n",
              "\n",
              "    .colab-df-buttons div {\n",
              "      margin-bottom: 4px;\n",
              "    }\n",
              "\n",
              "    [theme=dark] .colab-df-convert {\n",
              "      background-color: #3B4455;\n",
              "      fill: #D2E3FC;\n",
              "    }\n",
              "\n",
              "    [theme=dark] .colab-df-convert:hover {\n",
              "      background-color: #434B5C;\n",
              "      box-shadow: 0px 1px 3px 1px rgba(0, 0, 0, 0.15);\n",
              "      filter: drop-shadow(0px 1px 2px rgba(0, 0, 0, 0.3));\n",
              "      fill: #FFFFFF;\n",
              "    }\n",
              "  </style>\n",
              "\n",
              "    <script>\n",
              "      const buttonEl =\n",
              "        document.querySelector('#df-d9a682b1-ab8f-41ce-8be4-10dab3ba8690 button.colab-df-convert');\n",
              "      buttonEl.style.display =\n",
              "        google.colab.kernel.accessAllowed ? 'block' : 'none';\n",
              "\n",
              "      async function convertToInteractive(key) {\n",
              "        const element = document.querySelector('#df-d9a682b1-ab8f-41ce-8be4-10dab3ba8690');\n",
              "        const dataTable =\n",
              "          await google.colab.kernel.invokeFunction('convertToInteractive',\n",
              "                                                    [key], {});\n",
              "        if (!dataTable) return;\n",
              "\n",
              "        const docLinkHtml = 'Like what you see? Visit the ' +\n",
              "          '<a target=\"_blank\" href=https://colab.research.google.com/notebooks/data_table.ipynb>data table notebook</a>'\n",
              "          + ' to learn more about interactive tables.';\n",
              "        element.innerHTML = '';\n",
              "        dataTable['output_type'] = 'display_data';\n",
              "        await google.colab.output.renderOutput(dataTable, element);\n",
              "        const docLink = document.createElement('div');\n",
              "        docLink.innerHTML = docLinkHtml;\n",
              "        element.appendChild(docLink);\n",
              "      }\n",
              "    </script>\n",
              "  </div>\n",
              "\n",
              "\n",
              "<div id=\"df-69e30a25-b260-4331-870b-032808d8aec4\">\n",
              "  <button class=\"colab-df-quickchart\" onclick=\"quickchart('df-69e30a25-b260-4331-870b-032808d8aec4')\"\n",
              "            title=\"Suggest charts.\"\n",
              "            style=\"display:none;\">\n",
              "\n",
              "<svg xmlns=\"http://www.w3.org/2000/svg\" height=\"24px\"viewBox=\"0 0 24 24\"\n",
              "     width=\"24px\">\n",
              "    <g>\n",
              "        <path d=\"M19 3H5c-1.1 0-2 .9-2 2v14c0 1.1.9 2 2 2h14c1.1 0 2-.9 2-2V5c0-1.1-.9-2-2-2zM9 17H7v-7h2v7zm4 0h-2V7h2v10zm4 0h-2v-4h2v4z\"/>\n",
              "    </g>\n",
              "</svg>\n",
              "  </button>\n",
              "\n",
              "<style>\n",
              "  .colab-df-quickchart {\n",
              "      --bg-color: #E8F0FE;\n",
              "      --fill-color: #1967D2;\n",
              "      --hover-bg-color: #E2EBFA;\n",
              "      --hover-fill-color: #174EA6;\n",
              "      --disabled-fill-color: #AAA;\n",
              "      --disabled-bg-color: #DDD;\n",
              "  }\n",
              "\n",
              "  [theme=dark] .colab-df-quickchart {\n",
              "      --bg-color: #3B4455;\n",
              "      --fill-color: #D2E3FC;\n",
              "      --hover-bg-color: #434B5C;\n",
              "      --hover-fill-color: #FFFFFF;\n",
              "      --disabled-bg-color: #3B4455;\n",
              "      --disabled-fill-color: #666;\n",
              "  }\n",
              "\n",
              "  .colab-df-quickchart {\n",
              "    background-color: var(--bg-color);\n",
              "    border: none;\n",
              "    border-radius: 50%;\n",
              "    cursor: pointer;\n",
              "    display: none;\n",
              "    fill: var(--fill-color);\n",
              "    height: 32px;\n",
              "    padding: 0;\n",
              "    width: 32px;\n",
              "  }\n",
              "\n",
              "  .colab-df-quickchart:hover {\n",
              "    background-color: var(--hover-bg-color);\n",
              "    box-shadow: 0 1px 2px rgba(60, 64, 67, 0.3), 0 1px 3px 1px rgba(60, 64, 67, 0.15);\n",
              "    fill: var(--button-hover-fill-color);\n",
              "  }\n",
              "\n",
              "  .colab-df-quickchart-complete:disabled,\n",
              "  .colab-df-quickchart-complete:disabled:hover {\n",
              "    background-color: var(--disabled-bg-color);\n",
              "    fill: var(--disabled-fill-color);\n",
              "    box-shadow: none;\n",
              "  }\n",
              "\n",
              "  .colab-df-spinner {\n",
              "    border: 2px solid var(--fill-color);\n",
              "    border-color: transparent;\n",
              "    border-bottom-color: var(--fill-color);\n",
              "    animation:\n",
              "      spin 1s steps(1) infinite;\n",
              "  }\n",
              "\n",
              "  @keyframes spin {\n",
              "    0% {\n",
              "      border-color: transparent;\n",
              "      border-bottom-color: var(--fill-color);\n",
              "      border-left-color: var(--fill-color);\n",
              "    }\n",
              "    20% {\n",
              "      border-color: transparent;\n",
              "      border-left-color: var(--fill-color);\n",
              "      border-top-color: var(--fill-color);\n",
              "    }\n",
              "    30% {\n",
              "      border-color: transparent;\n",
              "      border-left-color: var(--fill-color);\n",
              "      border-top-color: var(--fill-color);\n",
              "      border-right-color: var(--fill-color);\n",
              "    }\n",
              "    40% {\n",
              "      border-color: transparent;\n",
              "      border-right-color: var(--fill-color);\n",
              "      border-top-color: var(--fill-color);\n",
              "    }\n",
              "    60% {\n",
              "      border-color: transparent;\n",
              "      border-right-color: var(--fill-color);\n",
              "    }\n",
              "    80% {\n",
              "      border-color: transparent;\n",
              "      border-right-color: var(--fill-color);\n",
              "      border-bottom-color: var(--fill-color);\n",
              "    }\n",
              "    90% {\n",
              "      border-color: transparent;\n",
              "      border-bottom-color: var(--fill-color);\n",
              "    }\n",
              "  }\n",
              "</style>\n",
              "\n",
              "  <script>\n",
              "    async function quickchart(key) {\n",
              "      const quickchartButtonEl =\n",
              "        document.querySelector('#' + key + ' button');\n",
              "      quickchartButtonEl.disabled = true;  // To prevent multiple clicks.\n",
              "      quickchartButtonEl.classList.add('colab-df-spinner');\n",
              "      try {\n",
              "        const charts = await google.colab.kernel.invokeFunction(\n",
              "            'suggestCharts', [key], {});\n",
              "      } catch (error) {\n",
              "        console.error('Error during call to suggestCharts:', error);\n",
              "      }\n",
              "      quickchartButtonEl.classList.remove('colab-df-spinner');\n",
              "      quickchartButtonEl.classList.add('colab-df-quickchart-complete');\n",
              "    }\n",
              "    (() => {\n",
              "      let quickchartButtonEl =\n",
              "        document.querySelector('#df-69e30a25-b260-4331-870b-032808d8aec4 button');\n",
              "      quickchartButtonEl.style.display =\n",
              "        google.colab.kernel.accessAllowed ? 'block' : 'none';\n",
              "    })();\n",
              "  </script>\n",
              "</div>\n",
              "    </div>\n",
              "  </div>\n"
            ]
          },
          "metadata": {},
          "execution_count": 15
        }
      ]
    },
    {
      "cell_type": "markdown",
      "source": [
        "Si lo que queremos es obtener toda la información para un determinado código de color en hexadecimal, la consulta que haremos es la siguiente:"
      ],
      "metadata": {
        "id": "moHf110vD6_h"
      }
    },
    {
      "cell_type": "code",
      "source": [
        "#Completa\n",
        "pd.read_sql_query(\"SELECT * FROM colores WHERE (((Hexadecimal)= '#7ADF7B'))\", conn)"
      ],
      "metadata": {
        "id": "45tyKE6lDmXu",
        "outputId": "59f48dbf-d504-4fda-b6d4-4735606928c1",
        "colab": {
          "base_uri": "https://localhost:8080/",
          "height": 80
        }
      },
      "execution_count": 16,
      "outputs": [
        {
          "output_type": "execute_result",
          "data": {
            "text/plain": [
              "   Unnamed: 0 Color (gama) Hexadecimal            RGB          CMYK  \\\n",
              "0           0        verde     #7ADF7B  (122,223,123)  (45,0,45,13)   \n",
              "\n",
              "                   HSL  \n",
              "0  (120.6,61.2%,67.6%)  "
            ],
            "text/html": [
              "\n",
              "  <div id=\"df-2c10ecdf-fe00-4bf6-beca-619ee98a60fd\" class=\"colab-df-container\">\n",
              "    <div>\n",
              "<style scoped>\n",
              "    .dataframe tbody tr th:only-of-type {\n",
              "        vertical-align: middle;\n",
              "    }\n",
              "\n",
              "    .dataframe tbody tr th {\n",
              "        vertical-align: top;\n",
              "    }\n",
              "\n",
              "    .dataframe thead th {\n",
              "        text-align: right;\n",
              "    }\n",
              "</style>\n",
              "<table border=\"1\" class=\"dataframe\">\n",
              "  <thead>\n",
              "    <tr style=\"text-align: right;\">\n",
              "      <th></th>\n",
              "      <th>Unnamed: 0</th>\n",
              "      <th>Color (gama)</th>\n",
              "      <th>Hexadecimal</th>\n",
              "      <th>RGB</th>\n",
              "      <th>CMYK</th>\n",
              "      <th>HSL</th>\n",
              "    </tr>\n",
              "  </thead>\n",
              "  <tbody>\n",
              "    <tr>\n",
              "      <th>0</th>\n",
              "      <td>0</td>\n",
              "      <td>verde</td>\n",
              "      <td>#7ADF7B</td>\n",
              "      <td>(122,223,123)</td>\n",
              "      <td>(45,0,45,13)</td>\n",
              "      <td>(120.6,61.2%,67.6%)</td>\n",
              "    </tr>\n",
              "  </tbody>\n",
              "</table>\n",
              "</div>\n",
              "    <div class=\"colab-df-buttons\">\n",
              "\n",
              "  <div class=\"colab-df-container\">\n",
              "    <button class=\"colab-df-convert\" onclick=\"convertToInteractive('df-2c10ecdf-fe00-4bf6-beca-619ee98a60fd')\"\n",
              "            title=\"Convert this dataframe to an interactive table.\"\n",
              "            style=\"display:none;\">\n",
              "\n",
              "  <svg xmlns=\"http://www.w3.org/2000/svg\" height=\"24px\" viewBox=\"0 -960 960 960\">\n",
              "    <path d=\"M120-120v-720h720v720H120Zm60-500h600v-160H180v160Zm220 220h160v-160H400v160Zm0 220h160v-160H400v160ZM180-400h160v-160H180v160Zm440 0h160v-160H620v160ZM180-180h160v-160H180v160Zm440 0h160v-160H620v160Z\"/>\n",
              "  </svg>\n",
              "    </button>\n",
              "\n",
              "  <style>\n",
              "    .colab-df-container {\n",
              "      display:flex;\n",
              "      gap: 12px;\n",
              "    }\n",
              "\n",
              "    .colab-df-convert {\n",
              "      background-color: #E8F0FE;\n",
              "      border: none;\n",
              "      border-radius: 50%;\n",
              "      cursor: pointer;\n",
              "      display: none;\n",
              "      fill: #1967D2;\n",
              "      height: 32px;\n",
              "      padding: 0 0 0 0;\n",
              "      width: 32px;\n",
              "    }\n",
              "\n",
              "    .colab-df-convert:hover {\n",
              "      background-color: #E2EBFA;\n",
              "      box-shadow: 0px 1px 2px rgba(60, 64, 67, 0.3), 0px 1px 3px 1px rgba(60, 64, 67, 0.15);\n",
              "      fill: #174EA6;\n",
              "    }\n",
              "\n",
              "    .colab-df-buttons div {\n",
              "      margin-bottom: 4px;\n",
              "    }\n",
              "\n",
              "    [theme=dark] .colab-df-convert {\n",
              "      background-color: #3B4455;\n",
              "      fill: #D2E3FC;\n",
              "    }\n",
              "\n",
              "    [theme=dark] .colab-df-convert:hover {\n",
              "      background-color: #434B5C;\n",
              "      box-shadow: 0px 1px 3px 1px rgba(0, 0, 0, 0.15);\n",
              "      filter: drop-shadow(0px 1px 2px rgba(0, 0, 0, 0.3));\n",
              "      fill: #FFFFFF;\n",
              "    }\n",
              "  </style>\n",
              "\n",
              "    <script>\n",
              "      const buttonEl =\n",
              "        document.querySelector('#df-2c10ecdf-fe00-4bf6-beca-619ee98a60fd button.colab-df-convert');\n",
              "      buttonEl.style.display =\n",
              "        google.colab.kernel.accessAllowed ? 'block' : 'none';\n",
              "\n",
              "      async function convertToInteractive(key) {\n",
              "        const element = document.querySelector('#df-2c10ecdf-fe00-4bf6-beca-619ee98a60fd');\n",
              "        const dataTable =\n",
              "          await google.colab.kernel.invokeFunction('convertToInteractive',\n",
              "                                                    [key], {});\n",
              "        if (!dataTable) return;\n",
              "\n",
              "        const docLinkHtml = 'Like what you see? Visit the ' +\n",
              "          '<a target=\"_blank\" href=https://colab.research.google.com/notebooks/data_table.ipynb>data table notebook</a>'\n",
              "          + ' to learn more about interactive tables.';\n",
              "        element.innerHTML = '';\n",
              "        dataTable['output_type'] = 'display_data';\n",
              "        await google.colab.output.renderOutput(dataTable, element);\n",
              "        const docLink = document.createElement('div');\n",
              "        docLink.innerHTML = docLinkHtml;\n",
              "        element.appendChild(docLink);\n",
              "      }\n",
              "    </script>\n",
              "  </div>\n",
              "\n",
              "    </div>\n",
              "  </div>\n"
            ]
          },
          "metadata": {},
          "execution_count": 16
        }
      ]
    },
    {
      "cell_type": "code",
      "source": [
        "#para finalizar, se cierra la conexión con la base de datos\n",
        "conn.close()"
      ],
      "metadata": {
        "id": "XpImHKGnC6rV"
      },
      "execution_count": 17,
      "outputs": []
    },
    {
      "cell_type": "markdown",
      "source": [
        "### Convertir de CSV a JSON"
      ],
      "metadata": {
        "id": "EL2_lMUlPTdU"
      }
    },
    {
      "cell_type": "markdown",
      "source": [
        "Volvemos a leer el fichero CSV y almacenarlo en la variable `df`."
      ],
      "metadata": {
        "id": "d4ow_hWATINk"
      }
    },
    {
      "cell_type": "code",
      "source": [
        "df = pd.read_csv('MiTablaColores.csv')"
      ],
      "metadata": {
        "id": "xaDlSyrdTQd0"
      },
      "execution_count": 18,
      "outputs": []
    },
    {
      "cell_type": "markdown",
      "source": [
        "La siguiente instrucción convierte la información almacenada en `df` en un archivo JSON."
      ],
      "metadata": {
        "id": "5YvQUk-RTSND"
      }
    },
    {
      "cell_type": "code",
      "source": [
        "df.to_json(\"MiTablaColores.json\", orient = \"records\")"
      ],
      "metadata": {
        "id": "jeUxbRkhRdYj"
      },
      "execution_count": 19,
      "outputs": []
    },
    {
      "cell_type": "markdown",
      "source": [
        "orient = \"records\" para registrarlo."
      ],
      "metadata": {
        "id": "H2MgitBDfhn8"
      }
    },
    {
      "cell_type": "markdown",
      "source": [
        "Hacemos doble clic en el archivo JSON generado.\n",
        "\n",
        "![Captura.PNG](data:image/png;base64,iVBORw0KGgoAAAANSUhEUgAAAkIAAABWCAYAAAAjf/mkAAAAAXNSR0IArs4c6QAAAARnQU1BAACxjwv8YQUAAAAJcEhZcwAADsMAAA7DAcdvqGQAABvqSURBVHhe7Z3db11HucZzwQ1/QG/Ona98USkS0pHOkZqb5uZEqoRFJaJeRHxFvah0pCg9GCuobktwqmITWtymNanqOoS4pXUg4CquC5TtkLKhlQPBhUBdQneaqrsYwjcBCrxnnvlYe2bWrP1tZ2/v55V+yt5rZs3MmvXOO8+eWcvZITQajUaj0WgDahRCNBqNRqPRBtYohGjb3t577z3585//LH/4wx/k2rVrhHQV+BX8C35Go9H6zyiEaNvaMEGlJi9CNgP4G41G6y+jEKJtW/vTn/6UnKwI2UzgdzQarX+MQoi2LY0rQeRGwpUhGq1/jEKItu0Mz2qkJidCthI+M0Sj9YdRCNG2nXE1iPQCXBWi0frDtlQI/fOf/5S//OUv8u9//9se6T3761//qt8CwT7/v/71L3uU1k/WlbfDNqpSqVTTab1CtSKVy4bqRiK9X+iHvm4D+CGNRut9a1sI/e1vf5PZ2Vn5zGc+IxcuXLBHa/bb3/5WvvCFL8iDDz4oV69e1aLiq1/9qjzwwAMq6FVkYWFBn5tiZWXFlpI3Vy/OLzLUh3p/9rOf2SONrVqtype+9KWgHZ/73Ofk4sWLTQm3Ztq1lYZrd32fMlwTRCmEXyeG68V14/p7xVKT0vrcPhkaGpKh0UWp5tKrsnxoWKfvm1v3vo/IzMVrUrpPnYdzE5j8cXk19Ln7ZmU9kaa5NCv7VDnjLyXSiqiUZfbuPTLst+XmPXJwbjVxbWkatmvLCPs6nad/odFovW9dEUInTpyQf/zjHzbF2Pe//32d5k/GP/zhD+XkyZP6lxLE0E9+8hMtoh555BF58skn9Xfw7rvv6vwp2wwh9Itf/ELn/+IXvyg//vGP5fe//71u36lTp7QYunLlis1ZbP0mhLrV3r4TQkP7Zf5ylH55XvZbQeGEzfrpMdn7iWkpV69J5dVlWV4C8zJ+m8p357T9viyl1+qvZHRdCF1akIO3qjI/sFem5suyhhWhi2WZn9wrO4d2y/iLlfR5Eb0jhMK+TqXfCDDmv/a1ryXTANKQJ5XmQ6PRet86FkKTk5NaLPgTLkQRxBGOI92l4Zx4y6loQkae3/zmN/LTn/5UCyN3jp8fW22//OUvNb4QSwkhnId8r7/+uly/ft0eNa9YHzt2TJ566qngOAzl/+53v7PfjOHYW2+9pcv2X5Mtug7kQV6cg3Od4TPS0G6szECMoQwYjqXa6qyoTN98IYRrwHes0mElCOegb5944gl5+umntTBFnXGbfv7znwfnoL64TX0lhG7ZLbtvzq/iVOb3y9DNKu0WL01vO8UiZ11m9ykBcV8pOn5NqpdWpaSEUflieI4vOCoXSrL80qqs+xN+SgiputfOK6EV571WkYW7hmXo1nEpXfWPG9YvRatTG1VZR51LSjBF+ZNCSOVP1outK7f9Vl2Tsipv3duKqyohtrxUktX1hCi8ivxKMF5YL96+S/R13TLrXFdV/YCp4Ji7lvNrbW0bfvvb35aPf/zj+sdQnPaVr3xFpyFPnBZDo9E6MyyWfPrTn9Zgh8ZZq8frWcdCCALi0Ucf1UHBGVZTMAl//etfl6NHj2ZCCFteDz/8cLB3nhIQWJHBJO1vU2HbCsdd/uPHj2sB49IhujBxw3whhEm8XC7LkSNHsrwTExN6xQppEFr4DiHSyN544w35/Oc/n5UDzp49q0VCfB1///vf5fTp00Hehx56SN5++22d7tqI7ULUj3S0N67Dbys4d+6cHD58OCjznXfe0WX65oTQ/Px8kB/3AIIGae4YQH6/Ta6/cC7uLe6zy4v2uevoKyE0NC5Tk7tk6IMzspalrcnMB4dk+NCUTN3mrQjZ/KUsH0gIoatlmb5jp11tMgx/aErKdoLWguPD4zJxp5cH21jPrpnzIyG09uxB2aPEWq283bm8++cbr/pUX52R/R/wyxmWkaPlbOssFkLri+MN6z1437jstum6vVdXZca/LsXuAwuyZoXH2sn9stNLG7r1oCxcMmk+QV9vrMl8okzXzvrXZe/PAdXfe8xWp6ZAODbi+eef14IHPxbcMaxo4xjS/LxF0Gi0zuzuu+/WYw586lOfskdFDhw40NLxetaxEMJEuLi4qMWQWyFx37EVhom1VSGEcr773e9q4QODsMLKEiZklx8T8re+9S29eoFVC2ytTU9P69UPXwhhJQn/YssLn5Efy9p4fgnnoU347OoqMpSL8lEPzoP4wfVBMECcxNeBciFikAd5XRvRL6jLtRHXhfbhGFa+UAfah3aivaVSKVtxQ79g++6FF17QoghvpaCfsLoTG8pEHz322GO6brQPQRzXurGxkVwRcm1CG9AWrAo5AeTa9Ktf/UrnWV5e1vX0mxAqladk19AumTpv07LvyzKuJs2WhVB1VeYfnpVyxX6/qESDEhQjx42I0IJDlbv70KJZRamuyeKh3erYPpmFKIiEUOWlGZk+Y1d2NiqyfJ/Ke/OYLGOF5qVxdd5emX3N5C2kWpLxW5Qg++iMlLENiNWRM2NKxAzLvpOm7EAI2TagjWuoR9VbfmyfDCsxNLFSzdKHbt4nM+fXpXJZcbWqylCiUomM5ejaTR+WZEJ93vPIqknbMP1UWrd5PYK+XplQ9e6R6Vdt+qvzMj1Xsn3X6Lrs/VHtHrN9WFmZkhHcV3vdreLEEPy8VREEaDRaZ/bJT34yEzajo6P2aOvH61lXhBCECiZrrKpgsnYrRJiM2xFCMOSBwPjGN74hP/jBD+Txxx/XeVz++LkkTNAQJWtra4EQgkFQrK+va4EG8fSd73wna1ezQgjLbf61wFAuVk8gcNBedx14ABkrWFgRgmBxhn7Cw+J+G1G/M9SBa8Ax97wUrh19+73vfS+7dqwCra6u6jr98n1zQggrXs78+5Hq91Sb8Hlqaip7bis+D//iO473iqUmpNpka1aAdk2W9fFytkKkJllMmK0KIVBZleW5aZk4Mi2zZxZk4sO1PFpw3DIlZX97prooY6quvU8qsRQJIbB+fl5mjkzIxPF5KR0/qNphRVOTQqi6OFY7JztuH0r+8KxeDfOF0Opje5TIUdcabCGZfhq6ZzlrY7ZtCOw17LlnXj8rZViU6U+ocz46r8q1fXXrQZk5U5a1Om+FBX3tRNmBGVk8vyYVb4uu8XXZOoMtvzWZ9e5HO5w5cyYLrK2IIECj0TozzIuHDh2Se++9N7cF1srxetYVIQRBAmECUYAJ2q1gtCuEIFogCLD1he01pGOLBnlS+WEoE2WjDjeho360DdtDKA+rHzgPWzuuXc1ujaXaDnPHscri2uW3xbeiNjrDcVwnthMhdnwgiGB//OMfdZ/geiB0sKqTEnFx38OaFUJxm/zrjs/Dv/iO471iqQnJn2zNM0Fjsnx5Wca8FYy2hFB5Wm8p7bxjTAmhCRn/3xGzHeQLofhZHL+cQAhVZOHATr11dtc9SggdGZN9/40tnnD1qNHWWLrt4XG/Xek2escTYs21Zeete2TPbRF3262sq6syf99+2W23snbeMZ1tGfrE7a2+Oi/jn9htt9V2yt6HzdZX4+tKCdXUsdZwq0IUQjTa9rSuCCEYtp6wcoA3wNxqTTwZx5MqLDUh4zNWVNyr3ciDVRccd/nxjJD/0C4eLsZqC54T8id09xkq0RlWZFy7sILlHpbGVpBv2NKCQMLzPhBMOOfy5cs21aTjYUq0B9fkrsO18ZlnntF5nLk2oqyU6EAbsVXmP/ODVSfU7wzlAawE4Tkd9Ce2rWKL+x7mH0v1e6pN21EIXasaAbT/TiWIsrfI2hNCWizcNiOrWZ5wBUKnu60tl+fqohxEXdiu8UWG/Ty26K2evIhVILcKUntYOtuO8lhfWZZVCI2XxmUYr6Nf8NOrsnhAtSUhfvS1qjYu+iJlY1WmbxuS4ZxYs9gVoZwoq3pt36hmDypXX1uQMWxrHckLklxfuzKw9XV6THYNDcvEivre8Lq6L4ScCMJYxg+pVsUQjUbrfeuaEMJzKNhiwioFRBEsnoybFULYwnIP5GLSxxbZZz/7WZ3H5Uc92DZDsIHAwLMzEDQQNv6Eji0dCDQEL4gzrNzguRm/XXgNFgIEbcMzPSjTvT6PFRq02wkmbPuhPuRZWlrS6RAw8XVgBQdtxvM8fhsh8CC4UqLD1YFtQKRjpefFF1/UK2xoD/oDn5999lldJr6jTAihX//617r/n3vuOS2e4r6H+ccgriD+cD624PAAdapN21IIZX+7Rk3Mh5btg7btCaHy0V1KRNwl8xAqauJePXmXmrhrebTgUN93H5iV8iW86l6SqY+qutU5CxBgvsioLMhd6vPIZEkqEBCXVV5sT/nbQVdVO+3r8+NzSvjoMt3r80Pyn4dLSnyUZUrlGd4zLvMX8EzPmpSO4pmf4Uxk+ULo2mVVL1a17pyW0kVV3qVVmdfPMVnRkRJCivJRPL80IhNLa/qtsvXzM7Lv5mEZOb4q116b188L6eeO8Ir/pUXzfI8WQhVZvHunugYl6JRA9Pt67aR5NmnsjC1zcbwmhBpeV3eFkBNBeDbIHePD0jTa9rOuCSGsUHzzm98MHpqOJ+NmhRACCAQBxA6Ym5vT35HH5UdA+vKXv5zlwYTu3mTyJ3S0y3/TCsfx7I7fLhj+oGL8phrEmHvIGgax4f/RRWxPvfzyyzo9vg4IOFyv28ICKB+CEZYSHTBcA/rQrwPbjbgOEL8BNzMzo/sLgg9bahBvqdU4WHwMq2cQVigHbU21aXsKIcX56KHpdrfGlDDx31DafWBKxuMVoX3TMnvE+wOISsRMn7erHpHICN60UiJjatJ7RsjVWSnL7KjdgnN8YETG5spGQCHP+rJM+W+z4U21efsWmCIQQorqq7Ny0H/TCm1csas9BUIIb3gtBO0Ylj332IfCVXr8BtzOD07Zt7ewBQgxeFAWKlFfo8zgj0Xu1MIw+0ORda+re0IIzxJC8GBbPU7j6/M02vaytoXQZhvEBQQVVk8gAFKG40hHPidWigwTNSZziIR65vIV1evX6W97FRnqQ3mt/AXnRnXgWKO+adaciNtOlpqQNpsqVj0a/TcRV1Ue9/d4UukO+19nNMy3Yf6+T/7vHdXQf1enmbIs+jrqlJfE/Vcf/vafw7Wx2YelHfXKVLR6Xa2CFVg8i5dKA1iFRZ5Umg+NRut961khRKO1a6kJifQiSiThbc57dpk365J5+hsajdb7RiFE23aGFbjUpER6DbttNbRT9p+sbdttF9x2Mo1G622jEKJtO8MfmkxNTKQHwXZhwfZXvwM/pNFovW8UQrRtZ++9915yYiJkK4Ef0mi03jcKIdq2NK4KkRsJV4NotP4xCiHatjW8WZeapAjZTOB3NBqtf4xCiLatjStDZCvhShCN1n9GIUTb9oZnNTBB8W0yshnAr+BffCaIRutPoxCi0Wg0Go02sEYhRKPRaDQabWCNQohGo9FoNNrAGoUQre/tv45syH/8X5WQnuR/HjL/0TKNRutNoxCi9b1RCJFehkKIRutt2/H6668LIYQQQsggsuP69etCCCGEEDKIUAgRQgghZGChECKEEELIwEIhRAghhJCBpT+F0MuTcvJjT0slldZ1zsvZm26S5565ItcvPy3Pqc9nX07l2wRwnTd9RFYuX5fKMx9RnyflQipfG5jybjI8eD6ZZyvQ7biB9cdceLDO/e3oflyRE6On5H3HfqQ+/0gOf+iU3H5G+VQyb4w59/ArqbStwrZftVujryOVL4W53veNnpM3o7SVY7Uy8/3RSZ+F9wj3detiRotsQjxz47u7scrEQhM3zDhIpbcXKzu71/2Ld61Xzsnt6nPz4/yKrHzMxW+v75N5u01n8+KbZ06rMb8kK+qzjgGJ2GBoFPvQf6flxJVUWvN0LIRW50ZldHRSXngrnb4pdDtw6AmuaIB3RwidO3WHvP+BO2SilcmsiYnXBTxD60JJn3+jhIi+vu6Ju66g73EqyCuauB/FdBjoX1lqUXyEmMBjBIcLQLX0xiJHn18YrJygKQpI5nobnb91QshMIOGkkTq2RXQ7nilcXOiuEHIgJt4AIeSNgbS/1Pez+mPA4IR5buJF3dm5kZ9bAePSU5N2UHfQPu9auyyEwrkhPT+Eebx7au+ff344NrZGCOm0wrhnfCbpJ66vEzEp9ANzfgdCaFWeGh2Vp5ZekMl+FkLRxJef4IyzmZtcFAAa8MoT8v5Hn5CJR1sUQrptti2Ja9bBPWiral+LokZf7w0RQmYgbU6g7pAi/2pwPxpRC95mADcf8AACZpu/fHRgqAX+OPCEwSY9CdXaXjtmMPkPn0EQb/+XWVH5HfWZd49CP9/+QmhzKYqDncXKhvda+bHzEeQN0q2PnygQ7Mgfih/lt/EEizJGl+RwVLeZOH3fVu075uqw/u/yazETjgNdd8FEH15r62Mcc4DxWb/vDXFsj1dF8/OHKuNBmx7Ni7nvQX1tzIu6r02f6P5NiZ0obsXo83L9ij6sneMLLp3u1au/2/vVthBanbPi563mhRA6TqvOl9Gp4U1xE2NafcbKNT7XO7/FSV07Q3COKaelCfqNORnZsUNGTryZSL8gE3ol6IqcbFUI1SPnmHmMozvSeQuFkC7fO9/PkwkC7561GMjrCbDcvQZe3jDduy5MKGogt+Jn6Tbkg0rT1PWF+oS/VPIBsW7ACAKCH1BNoA1Ehh+sE4E7H2ASZVhWjhWXA4JrKvxlZyaLVPmbg7m/jYRQ6GfehGHHhp83N6nAF7Nz876U8/HAR01bsrSEj8bn18r3/Tsa810bH8iTjieNKcn9anzsuLeUSCvCiI3a2PDQfqrSrb/mfVdR4Jshpo7DKk6HIswd9/PWSNUX+DLqjtuzRWgfieOmu9eN5o9cejsxsZ177YjvQ4wf4+oQ3ft8DDXldP6MUAtCCJ1YCxj+YIqDkBmMWafroBIFmdzEawdwcuAWEd/cWgCKhVhd6kx+ekvs1AX1ubtCKHDqBHG6CZxeH/rHc30W9b/9nvVJJpLc/YvzN6LOoIoGoPYX/zpV+tl4snLpdvJBuWk/w3G/D4rbne6XJmhXCKkBe9gTAsUBPfELqa4QigOGCeyYRHSQic/Vv8KQjnpqeUMSAajBZJMPQCE9J4SimBOPJ5Nu/SqOT/Ar33fi9NR3r2ztu9n5+bYWjeWQ0O81ut5ujI9E2U3T/uQIH2m0cpIaN8mxFKFXbbR/RhOwHg8NViUiv/aPmc/ndJlu/GyVn4cxzM5t9nvOn2NiIaS/N/K5mA6EUFGsc+RiXgFxXNLfa/dA33dVzpYKIXQ6BqAZ1N5gQidHN6V2ExOTZhQ42qdWtgkMpm2hA3XAm8/L3geekHP6+1YKoVQAS/SjInWtybL9PteDIiyrdl9rx4opDqS5uuNJI8YfoF4bk37mn2cpbHfXfKxNCgJBUjA0JYRMgEcgRpDPynHn2gBRE0D+RFO8IpQRB5yI1IThk7yuTcNOCsqHY5wvwC/CsZL3IzN2zApLPK5C/HMbxTPkjfw9l96oPpDw+66Nj/rnbBbwES1QCsYGSIme1LGAoLzWhFDO7904sr6uJ9pEelb+JqL9M+HbWZrzKRvPdb7UMUtjn+siDYROo3hisDEvl68WC11abwghDNCo0zVbJIRQl+8khZNjS8TCZ6uFUByoWhRCsRD0+9wXH+2gzy8IpNoXamm4F2FbUpNYC0Io4WvJe93pNbaMNzgzEgE4FSAaCiFTXi34esFeB/qortxEY/JvNyEU3nf/WMrHQHpM5caKQvtt8lxzTmE8S0xAmiC9YOwEJGJA18ZHKr5sIpmP5okFRetCyBsLqe+67jpCSKHLd21S9ayo786XU369Vb7ux/F4vkjOHzk/9O8x7nlBrNwE6t8zKzAbCCGdJy4jEKIu5i71kBCKb0pGg8DRIUUTbcfqV68GmTfFcjz6fOdt1wGrKBgZpw2vIXUsLXpSgyQ41rFIqBNIcxNBWI++X37b/LZ4fpH0M1u23we1fLVjmi76WDPkBm1OjDjiwK2oK4RSIsZLTwmYXHmpMiK2oRBqFAOM75zPlaXHSuC3vr83iGcNx1adsROQyNe18dFsG7qJ57M5/6yRnEC1mCnwTTsx+uLKFzVupTQWXPWAL7v8Kb/fKl8PYzvumXdvU/NHzg/D9NRcsWnUucegmXiSErD6eHCeiW29IYTsTcoPOAPOyW6AHaz5ScqU0fKN0g4RO0iLk3xTz4UUrQi9KXO375AdO0Zk7o04rR4moIb9oPrAXr/uMy8tJW6y43Gf5QJiNIgaButGFE806cAbptfaa/ugJSHkDW5771P1tT3o23xGKBygtV8qqV+iuSCgA73L686tBX6dP/6eBRmbP/oeBurUsYgbJYRsf++4fa4waOYxfhPe9/CYvv/1fNyPE5FfxWNN+6yXHvhwLp5Zn67je/r8xFgO8fzeHeva+EiU3TTtPjcCIWR9HP5e4EuhbztiHweqvGQZJq8vfPKTqsqTvTUWkpto43HRYJwkacvH8zEs9EvrZ74fef6R84V4DmiKG/OMUP5+RWn+eVboti2ErixNyugo/oaQT31BVDgAdbrp6NpKQH4iNsdV8MFNygUCm6edycsO+Kz8VJ56dCSE1OA9MaKE0A65fyWfVh8nBNJtNwE4lRafZ/H7zgVoSxAMdVob/eQRTxYZUb0Gr64o/ewzXlsaBXp7PCtX5V3J8tnyNaZ/Whv0ljaFkBuQ7teoeR29KBD4Kz4GM/jtua/k040YsnmKJgqbnhckxUIoKDfD1R2Wm5FNFGhnPr01QeR+SNwvpWR6CnN/w/ueP2bEUOgv2l9tvPD9w/iV87Mwlj2nfLQ41infzcWz/PiMfTQc215bgljmsHV3Oj7qlY30pmhzcvQmxryoLvCzwM/jPEVjy+SLV4D88RWuLoU+nPRd/UMldW6ztOPjeSHk/M73pdiPMh9PxOHYBxvTgRCy96E4Fph+z63URXE0I/OXvK+gjM5XhEjnrNzfxopQv2MGZSw2agE6PNaWwG0Xb8JIpvcAjVZYBonSvSrYtvhrmZB+YiB9PFjpzpNe/WsPCqEbilXMAyeCLPoXZn6lKhRC+V8xm4r+JdTqr1xyQ9A/ICiCyDZmwH08t9UY0GjVqHkohMgNJbd825Ul2fbB6lNbW2KEEEK6THqrskb+MYB2oBAihBBCyMBCIUQIIYSQgYVCiBBCCCEDC4UQIYQQQgYWCiFCCCGEDCwUQoQQQggZWCiECCGEEDKwUAgRQgghZGChECKEEELIwEIhRAghhJCBhUKIEEIIIQMLhRAhhBBCBhYKIUIIIYQMLBRChBBCCBlYKIQIIYQQMrBQCBFCCCFkYKEQIoQQQsjAQiFECCGEkIGFQogQQgghAwuFECGEEEIGFgohQgghhAwsFEKEEEIIGVgohAghhBAysFAIEUIIIWRgoRAihBBCyMBCIUQIIYSQgYVCiBBCCCEDC4UQIYQQQgYWCiFCCCGEDCwUQoQQQggZWCiECCGEEDKwUAgRQgghZGChECKEEELIwEIhRAghhJCBhUKIEEIIIQPKdfl/3oQ04itAs7sAAAAASUVORK5CYII=)"
      ],
      "metadata": {
        "id": "LcdYrqyaTdrl"
      }
    },
    {
      "cell_type": "markdown",
      "source": [
        "Como se puede apreciar hay un problema en la codificación de la información a la hora de crear el archivo JSON, para evitarlo, hay que ejecutar la siguiente instrucción, indicando la codificación."
      ],
      "metadata": {
        "id": "UpLyGgtnTnJk"
      }
    },
    {
      "cell_type": "code",
      "source": [
        "with open(\"MiTablaColores.json\", 'w', encoding='utf-8') as file:\n",
        "    df.to_json(file, force_ascii=False, orient=\"records\")"
      ],
      "metadata": {
        "id": "KcTcO-2iLfVu"
      },
      "execution_count": 20,
      "outputs": []
    },
    {
      "cell_type": "markdown",
      "source": [
        "cuando se abra ese fichero, que se utilice el código UTF-8."
      ],
      "metadata": {
        "id": "kDfXopv7gI4S"
      }
    },
    {
      "cell_type": "markdown",
      "source": [
        "![Captura.PNG](data:image/png;base64,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)"
      ],
      "metadata": {
        "id": "ibOobSw2UkrD"
      }
    }
  ]
}