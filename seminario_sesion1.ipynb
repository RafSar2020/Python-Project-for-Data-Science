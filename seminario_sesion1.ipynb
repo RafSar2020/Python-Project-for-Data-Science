{
  "nbformat": 4,
  "nbformat_minor": 0,
  "metadata": {
    "colab": {
      "provenance": []
    },
    "kernelspec": {
      "name": "python3",
      "display_name": "Python 3"
    },
    "language_info": {
      "name": "python"
    }
  },
  "cells": [
    {
      "cell_type": "markdown",
      "source": [
        "#Máster de Procesamiento de Lenguaje e Inteligencia Artificial.\n",
        "#Seminario de Computación y Programación.\n",
        "#Sesión 1."
      ],
      "metadata": {
        "id": "oGe-Wuzw8yH0"
      }
    },
    {
      "cell_type": "markdown",
      "source": [
        "El objetivo de esta práctica es conocer con un poco de detalle y manejar codificaciones de texto plano.\n",
        "\n",
        "**Glosario de términos de la práctica:** ASCII, Unicode, UTF-8, UTF-16, BOM"
      ],
      "metadata": {
        "id": "onKEqDt5DEqZ"
      }
    },
    {
      "cell_type": "markdown",
      "source": [
        "Durante el desarrollo de esta práctica, responde a las preguntas en este cuaderno Jupyter, construyendo un informe en el que indiques brevemente los\n",
        "pasos dados en su realización, incluyendo capturas de pantalla (cuando lo consideres necesario) y contestando a las preguntas que se te van haciendo en el guión. No olvides guardar tus versiones intermedias en GitHub (menú \"Archivo\") y la definitiva antes de la fecha límite de entrega."
      ],
      "metadata": {
        "id": "UB2kLKurDIVy"
      }
    },
    {
      "cell_type": "markdown",
      "source": [
        "**1. Sistemas de codificación. Información básica.**\n",
        "\n",
        "1.a. Para comenzar, vamos a leer información sobre varios sistemas de codificación y terminología que es preciso conocer sobre codificación de texto. Lee despacio la información de las siguientes páginas:\n",
        "\n",
        "i. http://es.wikipedia.org/wiki/Codificación_de_caracteres\n",
        "\n",
        "ii. http://es.wikipedia.org/wiki/ASCII\n",
        "\n",
        "iii. http://es.wikipedia.org/wiki/Unicode\n",
        "\n",
        "iv. http://es.wikipedia.org/wiki/ISO/IEC_8859-1\n",
        "\n",
        "v. http://es.wikipedia.org/wiki/UTF-8\n",
        "\n",
        "vi. http://es.wikipedia.org/wiki/UTF-16\n",
        "\n",
        "vii. http://es.wikipedia.org/wiki/Marca_de_orden_de_bytes_(BOM)\n",
        "\n",
        "1.b. Una vez leída esta información, a las siguientes preguntas de\n",
        "manera razonada."
      ],
      "metadata": {
        "id": "vbJ5Ba83EBcx"
      }
    },
    {
      "cell_type": "markdown",
      "source": [
        "1.b.i. Define: Repertorio de caracteres. Tabla de caracteres. Codificación de caracteres."
      ],
      "metadata": {
        "id": "6VgrXPncEjUJ"
      }
    },
    {
      "cell_type": "markdown",
      "source": [
        "*Repertorio de caracteres: conjunto de caracteres que queremos representar. Estos caracteres pueden incluir letras, números, signos de puntuación, caracteres especiales y símbolos.\n",
        "*Tabla de caracteres: la que asocia a cada carácter del repertorio un número entero positivo (esto es, un valor numérico único).\n",
        "*Codificación de caracteres: método que permite convertir un carácter de un lenguaje natural (como el de un alfabeto o silabario) en un símbolo de otro sistema de representación, como un número o una secuencia de pulsos electrónicos en un sistema electrónico aplicando normas o reglas de codificación."
      ],
      "metadata": {
        "id": "2JUM_qncEvnZ"
      }
    },
    {
      "cell_type": "markdown",
      "source": [
        "1.b.ii. ¿Cuál es la relación entre el repertorio de caracteres de UTF-8 y UTF-16? ¿Qué tienen que ver estos repertorios con Unicode?"
      ],
      "metadata": {
        "id": "6UqlznU9FATs"
      }
    },
    {
      "cell_type": "markdown",
      "source": [
        "Ambos son formas de implementación del estándar Unicode, por lo que naturalmente son compatibles con este y pueden representar cualquier carácter dentro del repetorio de este. Entiendo que a ser distintas formas de implementación de un mismo estándar, el repetorio de caracteres de ambos es el mismo.\n"
      ],
      "metadata": {
        "id": "mIlICkzyFY98"
      }
    },
    {
      "cell_type": "markdown",
      "source": [
        "1.b.iii. ¿UTF-8 y UTF-16 representan del mismo modo los caracteres ASCII?"
      ],
      "metadata": {
        "id": "q1OljhCHFQYI"
      }
    },
    {
      "cell_type": "markdown",
      "source": [
        "No. UTF-8 utiliza un byte para los caracteres ASCII (los primeros 128) y hasta cuatro para el resto. En UTF-16, los caracteres ASCII se representan utilizando dos bytes, donde el primer byte es cero y el segundo byte corresponde a la representación ASCII."
      ],
      "metadata": {
        "id": "eszikC60FNmp"
      }
    },
    {
      "cell_type": "markdown",
      "source": [
        "**2. Manejo de ficheros con diferentes codificaciones.**\n",
        "\n",
        "Crea en el escritorio de tu equipo una carpeta llamada “Sesion1” en la que guardarás los archivos de este punto.\n",
        "\n",
        "2.a. Crea un archivo (por medio del editor 'Sublime Text' o por cualquier otro medio) llamado sesion1.txt con el siguiente texto:\n",
        "\n",
        "---\n",
        "  ¿Oyes en medio del otoño\n",
        "\n",
        "  detonaciones amarillas?\n",
        "\n",
        "  ¿Por qué razón o sinrazón\n",
        "\n",
        "  llora la lluvia su alegría?\n",
        "  \n",
        "  (Pablo Neruda)\n",
        "\n",
        "---\n",
        "\n",
        "2.b. Abre con Sublime el fichero que acabas de crear. Guarda el fichero (menú “File”, opción \"Save with Encoding\"; atención \"Save with Encoding\" mantiene el nombre del fichero, luego debéis usar \"Save as\" para cambiar el nombre y **después** proceder con \"Save with Encoding\") con seis codificaciones distintas: UTF-8, UTF-8 con BOM, Unicode Little Endian (UTF-16 LE), Unicode Little Endian con BOM (UTF-16 LE with BOM), Unicode Big Endian (UTF-16 BE) y\n",
        "Unicode Big Endian con BOM (UTF-16 BE with BOM)\n",
        "\n",
        "con los nombres respectivos:\n",
        "\n",
        "sesion1UTF8.txt, sesion1UTF8Bom.txt, sesion1UTF16LE.txt, sesion1UTF16LEBom.txt,\n",
        "sesion1UTF16BE.txt y sesion1UTF16BEBom.txt.\n",
        "\n",
        "2.c. Entra en la carpeta “Sesion1” y, pulsando sobre cada uno de los archivos con el botón derecho y seleccionando “Propiedades” (bajo Windows) u \"Obtener información\" (bajo macOS), observa cuánto ocupan. Anota en la siguiente celda de texto las siguientes informaciones y responde a las preguntas:\n",
        "\n",
        "*   Nombre y  tamaño de cada versión del fichero.\n",
        "*   Número de caracteres en el texto inicial (no olvides los saltos de línea; recuerda que se tratan de modo diferente en Windows y en macOS; véase, en Sublime, a título informativo, en el menú \"View\" la opción \"Line Endings\").\n",
        "*   ¿Qué fichero ocupa menos?\n",
        "*   ¿Qué ficheros ocupan más?\n",
        "*   ¿Cuánto ocupa el BOM en UTF-8?\n",
        "*   ¿Y en UTF-16?\n",
        "\n",
        "Llamamos “longitud de palabra” o “longitud de carácter” a la cantidad de memoria que ocupa cada carácter propio de una codificación cuando el mismo es almacenado en memoria. La longitud de carácter en las distintas codificaciones suele ser siempre un múltiplo de 8 bits (8 bits consecutivos forman un byte), por razones históricas, y se puede distinguir en general entre codificaciones con longitud de palabra fija (todos los caracteres ocuparán el mismo espacio en memoria) o variable (cada carácter puede ocupar una cantidad de memoria distinta).\n",
        "\n",
        "*   ¿Son todas las codificaciones de estos ficheros de longitud fija? (Ten en cuenta que las codificaciones de Unicode pueden incluir al principio del fichero el BOM.)\n",
        "*   Si son de longitud fija, ¿qué longitud de palabra tienen?"
      ],
      "metadata": {
        "id": "a0a7qG-0FkYY"
      }
    },
    {
      "cell_type": "markdown",
      "source": [
        "*Respuestas:*"
      ],
      "metadata": {
        "id": "xnS__5TUFDSK"
      }
    },
    {
      "cell_type": "markdown",
      "source": [
        "2.d. En Sublime, en el menú \"File\" en la opción \"Reopen with Encoding\", utiliza, al final de la lista, \"Hexadecimal\" para ver los ficheros que has creado en el punto b. [Para ver simultáneamente varios ficheros, se pueden abrir con \"Open File\" en diferentes \"tabs\" y se puede arrastrar cada \"tab\" fuera de la ventana para obtener tantas ventas de Sublime como se desee.]\n",
        "\n",
        "Observando la codificación hexadecimal trata de responder en la siguiente celda de texto a las siguientes preguntas:\n",
        "\n",
        "*   ¿Qué longitud de palabra en bytes tiene cada una de las codificaciones usadas en estos archivos?\n",
        "*   ¿Hay símbolos tienen la misma representación en todas las codificaciones?\n",
        "*   Los símbolos que no tienen la misma representación ¿comparten representación en alguna de las codificaciones?\n",
        "*   Observa las codificaciones de sesion1UTF16LEBom.txt y sesion1UTF16BEBom.txt ¿Por qué sus representaciones son diferentes? Para responder recuerda lo visto sobre el BOM; puedes leer también: http://es.wikipedia.org/wiki/Endianness"
      ],
      "metadata": {
        "id": "_Sv7sIqTB33X"
      }
    },
    {
      "cell_type": "markdown",
      "source": [
        "*Respuestas:*"
      ],
      "metadata": {
        "id": "mHi64o1aIE0Q"
      }
    },
    {
      "cell_type": "markdown",
      "source": [
        "2.e. En este documento Colab, seleccionando en la columna izquierda el símbolo de carpeta, crear una carpeta de nombre \"Sesion1\", y en ella subir los ficheros de esta pregunta (atención: este almacenamiento es local a la sesión que tenéis ahora abierta; al cerrarla se perderán). Haciendo \"click\" en cada fichero veréis que se abre en el lado derecho de la pantalla (con un sistemas de \"tabs\"). Podéis mostrar los resultados con capturas de pantalla en la siguiente celda (utilizando el icono de \"Insertar imagen\"). Responded, en esa misma celda, a las siguientes cuestiones:\n",
        "*   ¿Podéis deducir cuál es la codificación por defecto en Colab?\n",
        "*   ¿Qué sucede en presencia de BOM?"
      ],
      "metadata": {
        "id": "7LBdMTTME9f2"
      }
    },
    {
      "cell_type": "markdown",
      "source": [
        "*Respuestas:*"
      ],
      "metadata": {
        "id": "hYGTC8FqJa2_"
      }
    },
    {
      "cell_type": "markdown",
      "source": [
        "2.f **[Ejercicio optativo]** Si el fichero sesion1.txt puede ser leído correctamente como UTF-8, convertirlo (utilizando Sublime o cualquier otro medio) en un fichero con codificación ANSI (o, en caso de no tenerla disponible, alguna otra que sea lo más similar posible a ANSI). Responded con ese nuevo fichero las preguntas planteadas más arriba para el resto de ficheros."
      ],
      "metadata": {
        "id": "ZaZFAaKhJ298"
      }
    },
    {
      "cell_type": "markdown",
      "source": [
        "*Respuestas:*"
      ],
      "metadata": {
        "id": "Gk4xmb2nKo1U"
      }
    },
    {
      "cell_type": "markdown",
      "source": [
        "**3. Codificación en páginas html.**\n",
        "\n",
        "Ejecuta un navegador y abre la página de la Universidad de La Rioja. Intenta averiguar en qué codificación se han guardado los caracteres de dicha página."
      ],
      "metadata": {
        "id": "MxUAKY0UKqYb"
      }
    },
    {
      "cell_type": "markdown",
      "source": [
        "*Respuesta:*"
      ],
      "metadata": {
        "id": "GY7q0N5HKwU_"
      }
    },
    {
      "cell_type": "markdown",
      "source": [
        "**4. Glosario.**\n",
        "\n",
        "Ahora estás en condiciones de entender los términos del glosario de esta práctica. Busca información sobre ellos y escribe en la siguiente celda el significado de estos términos de forma breve (con tus propias palabras)."
      ],
      "metadata": {
        "id": "O4zGCbrgK9er"
      }
    },
    {
      "cell_type": "markdown",
      "source": [
        "*Respuestas:*"
      ],
      "metadata": {
        "id": "UK5M1D7vLcva"
      }
    }
  ]
}